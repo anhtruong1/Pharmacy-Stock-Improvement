{
 "cells": [
  {
   "cell_type": "markdown",
   "id": "be6682df",
   "metadata": {},
   "source": [
    "### <p style=\"color:blue;\"> Table of Contents </p>\n",
    "\n",
    "1. Introduction\n",
    " \n",
    "2. Research Question\n",
    " \n",
    "3. Data Requirements\n",
    "\n",
    "4. Data Collection\n",
    "\n",
    "5. Data Preparation\n",
    "  \n",
    "6. Brief EDA\n",
    "     \n",
    "7. Data Transformation\n",
    " \n",
    "8. Model selection\n",
    "\n",
    "9. Clustering\n",
    "         \n",
    "10. Modelling: Prophet model\n",
    "    - 10.1 Modeling Prophet with cluster\n",
    "    - 10.2 Validation\n",
    "    - 10.3 Optimization\n",
    "    \n",
    "11. Modelling: LSTM model\n",
    "    - 11.1 Modeling LSTM with cluster\n",
    "    - 11.2 Validation   \n",
    "    - 11.3 Optimization \n",
    " \n",
    "\n",
    "12. Model comparison\n",
    "\n",
    "\n",
    "13. Final result explanation\n",
    "\n"
   ]
  },
  {
   "cell_type": "markdown",
   "id": "439304a0",
   "metadata": {},
   "source": [
    "# 1. Introduction"
   ]
  },
  {
   "cell_type": "markdown",
   "id": "702857d0",
   "metadata": {},
   "source": [
    "The project is mainly focused on the use of airtificial intelligence in order to improve stock management for a well known pharmaceutical company known as informa.\n",
    "\n",
    "We will be able to help informa to improve there stock management by providing insights with in the data and making predictions of sales for products by pharmacies because then we will be able to know which products will be sold by  pharmacies over time and for that matter it will be easier to determine how much you should have in stock.\n"
   ]
  },
  {
   "cell_type": "markdown",
   "id": "5b7380a7",
   "metadata": {},
   "source": [
    "# 2. Research question"
   ]
  },
  {
   "cell_type": "markdown",
   "id": "3371dd9a",
   "metadata": {},
   "source": [
    "#### <p style=\"color:blue;\">**question:** To what extent can stock improvement be done through the use of data and artificial intelligence? </p>\n",
    "\n",
    "We will try to find out the sales of products by pharmacies over time and with that we will make predictions for the future period and that will enable us to know the stock required."
   ]
  },
  {
   "cell_type": "markdown",
   "id": "e8840b3b",
   "metadata": {},
   "source": [
    "#### <p style=\"color:blue;\">**Sub-question 1:** How can we secure the amount of stock for each product so the store always have enough product in stock to supply? How can we predict sale for huge range of products? </p>\n",
    "\n",
    "We will try to forcast the sale for each product or group of product with high accuracy score so the pharmacy can restock enough product to sell to prevent the pharmacy from being overstock and understock.\n",
    "\n",
    "#### <p style=\"color:blue;\">**Sub-question 2:** How can we taking into account inventory stocking and possible financial loss for short-life product? </p>\n",
    "\n",
    "To prevent loss from stocking too much product that have short expiry date. We consider comparing the predicted sale with monthly min, max and average sale. We group product into product with short expiry date with high stock value and short expiry product with low stock value. For product with high stock value, we can consider only stock the amount that range between minimum and average sale by month."
   ]
  },
  {
   "cell_type": "markdown",
   "id": "037014db",
   "metadata": {},
   "source": [
    "# 3. Data requirements"
   ]
  },
  {
   "cell_type": "markdown",
   "id": "68865aa1",
   "metadata": {},
   "source": [
    "### <p style=\"color:blue;\"> In the data we would like to have one dataset with the following columns: </p>\n",
    "\n",
    "- PatientToken: To identify specific patients\n",
    "- SupplyDate: To perform time-dependent analysis by date\n",
    "- SupplyTime: To perform time-dependent analysis on the crowds at a pharmacy\n",
    "- Pharmacy: To specify pharmacies\n",
    "- YOB: To make target audience predictions for age\n",
    "- Gender: To make target audience predictions for gender\n",
    "- CNK: To specify the identification of the product\n",
    "- ProductName: To read the name of the product\n",
    "- ATCcode: To specifies on which organ or system the product works on, and how it works\n",
    "- Units: To know the amount of units there are in a packaged\n",
    "- Price: The price of the product\n",
    "- PatientAge:To make target audience predictions for age\n",
    "- AgeSegment:To make target audience predictions for age\n",
    "- Linetotal:\n",
    "- Weekday: To perform time-dependent analysis by weekday\n",
    "- Month: To perform time-dependent analysis by month\n",
    "- Year: To perform time-dependent analysis by year\n",
    "- Season: To perform time-dependent analysis by season\n",
    "- AtcLetter: To specifies on which organ or system the product works on\n",
    "- ATCclassification: Explanation what the ATC letters mean"
   ]
  },
  {
   "cell_type": "markdown",
   "id": "aad75b0e",
   "metadata": {},
   "source": [
    "## 4. DATA COLLECTION"
   ]
  },
  {
   "cell_type": "markdown",
   "id": "4f7c8763",
   "metadata": {},
   "source": [
    "The primary focus is to improve stock management and for that case we will predict the sales over time,therefore the data that is needed to be collected to make the predictions possible. \n",
    "The data that we received from informa included supply date,pharmacy,product name,units, price and more all concerning the daily patient purchase of products in pharmacies. The reason for collecting data like units would help us to know which units where purchased and for things like date is quite important to know when it was purchased to be able to know the sales overtime.\n"
   ]
  },
  {
   "cell_type": "markdown",
   "id": "7f48a87d",
   "metadata": {},
   "source": [
    "# 5. Data preparation"
   ]
  },
  {
   "cell_type": "markdown",
   "id": "439f4c55",
   "metadata": {},
   "source": [
    "### <p style=\"color:blue;\"> Preparing the data that we collected in order to be able to get insights out of it. </p>\n"
   ]
  },
  {
   "cell_type": "markdown",
   "id": "332011b4",
   "metadata": {},
   "source": [
    "#### Importing the required libraries"
   ]
  },
  {
   "cell_type": "code",
   "execution_count": 373,
   "id": "2bedf3c2",
   "metadata": {},
   "outputs": [],
   "source": [
    "import pandas as pd\n",
    "from pandas import to_datetime\n",
    "from pandas import DataFrame\n",
    "import numpy as np\n",
    "import matplotlib.pyplot as plt\n",
    "import matplotlib.dates as mdates\n",
    "import seaborn as sns\n",
    "import plotly.express as px\n",
    "from datetime import datetime\n",
    "from pandas.api.types import CategoricalDtype\n",
    "from calendar import day_name\n",
    "import matplotlib.ticker as mtick\n",
    "import math \n",
    "from prophet import Prophet\n",
    "from sklearn.preprocessing import MinMaxScaler\n",
    "from keras.preprocessing.sequence import TimeseriesGenerator\n",
    "from keras.models import Sequential\n",
    "from keras.layers import Dense\n",
    "from keras.layers import LSTM\n",
    "from keras.layers import Dropout\n",
    "from tensorflow import keras\n",
    "import warnings\n",
    "warnings.filterwarnings(\"ignore\")"
   ]
  },
  {
   "cell_type": "markdown",
   "id": "b4ca7075",
   "metadata": {},
   "source": [
    "#### Importing the dataset and remove uneccesary columns"
   ]
  },
  {
   "cell_type": "code",
   "execution_count": 374,
   "id": "029d9747",
   "metadata": {
    "scrolled": true
   },
   "outputs": [
    {
     "data": {
      "text/html": [
       "<div>\n",
       "<style scoped>\n",
       "    .dataframe tbody tr th:only-of-type {\n",
       "        vertical-align: middle;\n",
       "    }\n",
       "\n",
       "    .dataframe tbody tr th {\n",
       "        vertical-align: top;\n",
       "    }\n",
       "\n",
       "    .dataframe thead th {\n",
       "        text-align: right;\n",
       "    }\n",
       "</style>\n",
       "<table border=\"1\" class=\"dataframe\">\n",
       "  <thead>\n",
       "    <tr style=\"text-align: right;\">\n",
       "      <th></th>\n",
       "      <th>SupplyDate</th>\n",
       "      <th>Pharmacy</th>\n",
       "      <th>ProductName</th>\n",
       "      <th>Units</th>\n",
       "      <th>Price</th>\n",
       "    </tr>\n",
       "  </thead>\n",
       "  <tbody>\n",
       "    <tr>\n",
       "      <th>0</th>\n",
       "      <td>2014-01-01</td>\n",
       "      <td>A1</td>\n",
       "      <td>SYMBICORT TURBOHALER 160MCG/4,5MCG DOSES 1X120</td>\n",
       "      <td>1</td>\n",
       "      <td>61.86</td>\n",
       "    </tr>\n",
       "    <tr>\n",
       "      <th>1</th>\n",
       "      <td>2014-01-01</td>\n",
       "      <td>A1</td>\n",
       "      <td>PANTOPRAZOLE EG 40MG MAAGSAPRESIST.TABL BLIST 56</td>\n",
       "      <td>56</td>\n",
       "      <td>30.18</td>\n",
       "    </tr>\n",
       "    <tr>\n",
       "      <th>2</th>\n",
       "      <td>2014-01-01</td>\n",
       "      <td>A1</td>\n",
       "      <td>TRADONAL RETARD CAPS 60 X 150 MG</td>\n",
       "      <td>60</td>\n",
       "      <td>31.88</td>\n",
       "    </tr>\n",
       "    <tr>\n",
       "      <th>3</th>\n",
       "      <td>2014-01-01</td>\n",
       "      <td>A4</td>\n",
       "      <td>FELDENE LYOTABS 30X20MG</td>\n",
       "      <td>30</td>\n",
       "      <td>16.83</td>\n",
       "    </tr>\n",
       "    <tr>\n",
       "      <th>4</th>\n",
       "      <td>2014-01-01</td>\n",
       "      <td>A1</td>\n",
       "      <td>COVERAM  5MG/10MG COMP 90</td>\n",
       "      <td>90</td>\n",
       "      <td>66.90</td>\n",
       "    </tr>\n",
       "    <tr>\n",
       "      <th>...</th>\n",
       "      <td>...</td>\n",
       "      <td>...</td>\n",
       "      <td>...</td>\n",
       "      <td>...</td>\n",
       "      <td>...</td>\n",
       "    </tr>\n",
       "    <tr>\n",
       "      <th>1111822</th>\n",
       "      <td>2020-12-31</td>\n",
       "      <td>A6</td>\n",
       "      <td>CYCLOCUR DRAG 3X21</td>\n",
       "      <td>21</td>\n",
       "      <td>9.17</td>\n",
       "    </tr>\n",
       "    <tr>\n",
       "      <th>1111823</th>\n",
       "      <td>2020-12-31</td>\n",
       "      <td>A3</td>\n",
       "      <td>PANTOMED  40 MG TABL  28</td>\n",
       "      <td>28</td>\n",
       "      <td>12.87</td>\n",
       "    </tr>\n",
       "    <tr>\n",
       "      <th>1111824</th>\n",
       "      <td>2020-12-31</td>\n",
       "      <td>A6</td>\n",
       "      <td>AMOXICILLINE SANDOZ 500MG/5ML PDR ORALE SUSP 1...</td>\n",
       "      <td>1</td>\n",
       "      <td>8.14</td>\n",
       "    </tr>\n",
       "    <tr>\n",
       "      <th>1111825</th>\n",
       "      <td>2020-12-31</td>\n",
       "      <td>A5</td>\n",
       "      <td>COLOFIBER SACH. GRAN. 20 X 7 GR</td>\n",
       "      <td>20</td>\n",
       "      <td>13.57</td>\n",
       "    </tr>\n",
       "    <tr>\n",
       "      <th>1111826</th>\n",
       "      <td>2020-12-31</td>\n",
       "      <td>A5</td>\n",
       "      <td>MAREVAN COMP  25 X  5 MG</td>\n",
       "      <td>25</td>\n",
       "      <td>5.98</td>\n",
       "    </tr>\n",
       "  </tbody>\n",
       "</table>\n",
       "<p>1111827 rows × 5 columns</p>\n",
       "</div>"
      ],
      "text/plain": [
       "        SupplyDate Pharmacy  \\\n",
       "0       2014-01-01       A1   \n",
       "1       2014-01-01       A1   \n",
       "2       2014-01-01       A1   \n",
       "3       2014-01-01       A4   \n",
       "4       2014-01-01       A1   \n",
       "...            ...      ...   \n",
       "1111822 2020-12-31       A6   \n",
       "1111823 2020-12-31       A3   \n",
       "1111824 2020-12-31       A6   \n",
       "1111825 2020-12-31       A5   \n",
       "1111826 2020-12-31       A5   \n",
       "\n",
       "                                               ProductName  Units  Price  \n",
       "0           SYMBICORT TURBOHALER 160MCG/4,5MCG DOSES 1X120      1  61.86  \n",
       "1         PANTOPRAZOLE EG 40MG MAAGSAPRESIST.TABL BLIST 56     56  30.18  \n",
       "2                         TRADONAL RETARD CAPS 60 X 150 MG     60  31.88  \n",
       "3                                  FELDENE LYOTABS 30X20MG     30  16.83  \n",
       "4                                COVERAM  5MG/10MG COMP 90     90  66.90  \n",
       "...                                                    ...    ...    ...  \n",
       "1111822                                 CYCLOCUR DRAG 3X21     21   9.17  \n",
       "1111823                           PANTOMED  40 MG TABL  28     28  12.87  \n",
       "1111824  AMOXICILLINE SANDOZ 500MG/5ML PDR ORALE SUSP 1...      1   8.14  \n",
       "1111825                    COLOFIBER SACH. GRAN. 20 X 7 GR     20  13.57  \n",
       "1111826                           MAREVAN COMP  25 X  5 MG     25   5.98  \n",
       "\n",
       "[1111827 rows x 5 columns]"
      ]
     },
     "execution_count": 374,
     "metadata": {},
     "output_type": "execute_result"
    }
   ],
   "source": [
    "pharmacy_ds = pd.read_csv(r'C:\\Users\\minhh\\OneDrive\\Desktop\\ML\\Project\\pharmacy_cleaned.csv', parse_dates=True)\n",
    "pharmacy_ds['SupplyDate']= pd.to_datetime(pharmacy_ds['SupplyDate'], infer_datetime_format=True) #date to datetime\n",
    "pharmacy_sale = pharmacy_ds.drop(['Unnamed: 0','PatientToken', 'SupplyTime', 'YOB', 'Gender','Weekday', 'PatientAge', 'AgeSegment','ATCletter','ATCclassification','Month','Year','Season','CNK','ATCcode'],axis=1)\n",
    "pharmacy_sale"
   ]
  },
  {
   "cell_type": "markdown",
   "id": "0e533a46",
   "metadata": {},
   "source": [
    "# 6. Brief EDA"
   ]
  },
  {
   "cell_type": "markdown",
   "id": "d202f600",
   "metadata": {},
   "source": [
    "### <p style=\"color:blue;\"> In this section we will do some eda to get a more understanding of what is happening in our data. </p>\n"
   ]
  },
  {
   "cell_type": "markdown",
   "id": "084bb93e",
   "metadata": {},
   "source": [
    "### Total number of unique products that we have in our dataset"
   ]
  },
  {
   "cell_type": "markdown",
   "id": "8f1c4763",
   "metadata": {},
   "source": [
    "#### <p style=\"color:green;\"> We see that we have a total of 5760 unique products in our dataset which is quite alot but we couldn't expect less for pharmaceautic products. </p>"
   ]
  },
  {
   "cell_type": "code",
   "execution_count": 375,
   "id": "5e62b83c",
   "metadata": {},
   "outputs": [
    {
     "data": {
      "text/plain": [
       "ProductName    5760\n",
       "dtype: int64"
      ]
     },
     "execution_count": 375,
     "metadata": {},
     "output_type": "execute_result"
    }
   ],
   "source": [
    "# How many unique product do we have ?\n",
    "pharmacy_sale[[\"ProductName\"]].nunique()"
   ]
  },
  {
   "cell_type": "markdown",
   "id": "fd2811c5",
   "metadata": {},
   "source": [
    "### What does the units column represent"
   ]
  },
  {
   "cell_type": "markdown",
   "id": "5746dffc",
   "metadata": {},
   "source": [
    "#### <p style=\"color:green;\"> We can see that the units column in our pharmacy dataset represent the number of items that are in a package. So we can say in this circumstance, this variable does not account for the sale. </p>\n"
   ]
  },
  {
   "cell_type": "code",
   "execution_count": 376,
   "id": "1d58053a",
   "metadata": {},
   "outputs": [
    {
     "data": {
      "text/html": [
       "<div>\n",
       "<style scoped>\n",
       "    .dataframe tbody tr th:only-of-type {\n",
       "        vertical-align: middle;\n",
       "    }\n",
       "\n",
       "    .dataframe tbody tr th {\n",
       "        vertical-align: top;\n",
       "    }\n",
       "\n",
       "    .dataframe thead th {\n",
       "        text-align: right;\n",
       "    }\n",
       "</style>\n",
       "<table border=\"1\" class=\"dataframe\">\n",
       "  <thead>\n",
       "    <tr style=\"text-align: right;\">\n",
       "      <th></th>\n",
       "      <th>SupplyDate</th>\n",
       "      <th>Pharmacy</th>\n",
       "      <th>ProductName</th>\n",
       "      <th>Units</th>\n",
       "      <th>Price</th>\n",
       "    </tr>\n",
       "  </thead>\n",
       "  <tbody>\n",
       "    <tr>\n",
       "      <th>1</th>\n",
       "      <td>2014-01-01</td>\n",
       "      <td>A1</td>\n",
       "      <td>PANTOPRAZOLE EG 40MG MAAGSAPRESIST.TABL BLIST 56</td>\n",
       "      <td>56</td>\n",
       "      <td>30.18</td>\n",
       "    </tr>\n",
       "    <tr>\n",
       "      <th>366</th>\n",
       "      <td>2014-01-02</td>\n",
       "      <td>A1</td>\n",
       "      <td>PANTOPRAZOLE EG 40MG MAAGSAPRESIST.TABL BLIST 56</td>\n",
       "      <td>56</td>\n",
       "      <td>30.18</td>\n",
       "    </tr>\n",
       "    <tr>\n",
       "      <th>557</th>\n",
       "      <td>2014-01-03</td>\n",
       "      <td>A1</td>\n",
       "      <td>PANTOPRAZOLE EG 40MG MAAGSAPRESIST.TABL BLIST 56</td>\n",
       "      <td>56</td>\n",
       "      <td>30.18</td>\n",
       "    </tr>\n",
       "    <tr>\n",
       "      <th>1418</th>\n",
       "      <td>2014-01-06</td>\n",
       "      <td>A1</td>\n",
       "      <td>PANTOPRAZOLE EG 40MG MAAGSAPRESIST.TABL BLIST 56</td>\n",
       "      <td>56</td>\n",
       "      <td>30.18</td>\n",
       "    </tr>\n",
       "    <tr>\n",
       "      <th>2630</th>\n",
       "      <td>2014-01-08</td>\n",
       "      <td>A1</td>\n",
       "      <td>PANTOPRAZOLE EG 40MG MAAGSAPRESIST.TABL BLIST 56</td>\n",
       "      <td>56</td>\n",
       "      <td>31.47</td>\n",
       "    </tr>\n",
       "    <tr>\n",
       "      <th>...</th>\n",
       "      <td>...</td>\n",
       "      <td>...</td>\n",
       "      <td>...</td>\n",
       "      <td>...</td>\n",
       "      <td>...</td>\n",
       "    </tr>\n",
       "    <tr>\n",
       "      <th>1106441</th>\n",
       "      <td>2020-12-16</td>\n",
       "      <td>A2</td>\n",
       "      <td>PANTOPRAZOLE EG 40MG MAAGSAPRESIST.TABL BLIST 56</td>\n",
       "      <td>56</td>\n",
       "      <td>20.55</td>\n",
       "    </tr>\n",
       "    <tr>\n",
       "      <th>1106671</th>\n",
       "      <td>2020-12-16</td>\n",
       "      <td>A3</td>\n",
       "      <td>PANTOPRAZOLE EG 40MG MAAGSAPRESIST.TABL BLIST 56</td>\n",
       "      <td>56</td>\n",
       "      <td>20.55</td>\n",
       "    </tr>\n",
       "    <tr>\n",
       "      <th>1110675</th>\n",
       "      <td>2020-12-28</td>\n",
       "      <td>A2</td>\n",
       "      <td>PANTOPRAZOLE EG 40MG MAAGSAPRESIST.TABL BLIST 56</td>\n",
       "      <td>56</td>\n",
       "      <td>20.55</td>\n",
       "    </tr>\n",
       "    <tr>\n",
       "      <th>1111212</th>\n",
       "      <td>2020-12-30</td>\n",
       "      <td>A2</td>\n",
       "      <td>PANTOPRAZOLE EG 40MG MAAGSAPRESIST.TABL BLIST 56</td>\n",
       "      <td>56</td>\n",
       "      <td>20.55</td>\n",
       "    </tr>\n",
       "    <tr>\n",
       "      <th>1111701</th>\n",
       "      <td>2020-12-31</td>\n",
       "      <td>A2</td>\n",
       "      <td>PANTOPRAZOLE EG 40MG MAAGSAPRESIST.TABL BLIST 56</td>\n",
       "      <td>56</td>\n",
       "      <td>20.55</td>\n",
       "    </tr>\n",
       "  </tbody>\n",
       "</table>\n",
       "<p>672 rows × 5 columns</p>\n",
       "</div>"
      ],
      "text/plain": [
       "        SupplyDate Pharmacy                                       ProductName  \\\n",
       "1       2014-01-01       A1  PANTOPRAZOLE EG 40MG MAAGSAPRESIST.TABL BLIST 56   \n",
       "366     2014-01-02       A1  PANTOPRAZOLE EG 40MG MAAGSAPRESIST.TABL BLIST 56   \n",
       "557     2014-01-03       A1  PANTOPRAZOLE EG 40MG MAAGSAPRESIST.TABL BLIST 56   \n",
       "1418    2014-01-06       A1  PANTOPRAZOLE EG 40MG MAAGSAPRESIST.TABL BLIST 56   \n",
       "2630    2014-01-08       A1  PANTOPRAZOLE EG 40MG MAAGSAPRESIST.TABL BLIST 56   \n",
       "...            ...      ...                                               ...   \n",
       "1106441 2020-12-16       A2  PANTOPRAZOLE EG 40MG MAAGSAPRESIST.TABL BLIST 56   \n",
       "1106671 2020-12-16       A3  PANTOPRAZOLE EG 40MG MAAGSAPRESIST.TABL BLIST 56   \n",
       "1110675 2020-12-28       A2  PANTOPRAZOLE EG 40MG MAAGSAPRESIST.TABL BLIST 56   \n",
       "1111212 2020-12-30       A2  PANTOPRAZOLE EG 40MG MAAGSAPRESIST.TABL BLIST 56   \n",
       "1111701 2020-12-31       A2  PANTOPRAZOLE EG 40MG MAAGSAPRESIST.TABL BLIST 56   \n",
       "\n",
       "         Units  Price  \n",
       "1           56  30.18  \n",
       "366         56  30.18  \n",
       "557         56  30.18  \n",
       "1418        56  30.18  \n",
       "2630        56  31.47  \n",
       "...        ...    ...  \n",
       "1106441     56  20.55  \n",
       "1106671     56  20.55  \n",
       "1110675     56  20.55  \n",
       "1111212     56  20.55  \n",
       "1111701     56  20.55  \n",
       "\n",
       "[672 rows x 5 columns]"
      ]
     },
     "execution_count": 376,
     "metadata": {},
     "output_type": "execute_result"
    }
   ],
   "source": [
    "pharmacy_sale[pharmacy_sale['ProductName']=='PANTOPRAZOLE EG 40MG MAAGSAPRESIST.TABL BLIST 56']"
   ]
  },
  {
   "cell_type": "markdown",
   "id": "ce3b80d2",
   "metadata": {},
   "source": [
    "### Are there different types of medicine for a productname?"
   ]
  },
  {
   "cell_type": "markdown",
   "id": "a390ed28",
   "metadata": {},
   "source": [
    "#### <p style=\"color:green;\"> As we can see, a product can be in different kind such as compact, tablets or liquid. </p>\n"
   ]
  },
  {
   "cell_type": "code",
   "execution_count": 377,
   "id": "4156a41e",
   "metadata": {},
   "outputs": [
    {
     "data": {
      "text/plain": [
       "array(['ZYRTEC DRINKB OPL 200ML 1MG/ML',\n",
       "       'ZYRTEC 10 MG FILMOMH TABL 40 X 10 MG',\n",
       "       'ZYRTEC 10 MG FILMOMH TABL 20 X 10 MG',\n",
       "       'ZYRTEC GUTT 20 ML X 10 MG/ML',\n",
       "       'ZYRTEC IMPEXECO COMP PELL 40 X  10MG PIP',\n",
       "       'ZYRTEC IMPEXECO COMP PELL 20 X  10MG PIP'], dtype=object)"
      ]
     },
     "execution_count": 377,
     "metadata": {},
     "output_type": "execute_result"
    }
   ],
   "source": [
    "pharmacy_sale['ProductName'][pharmacy_sale['ProductName'].str.contains(\"ZYRTEC\")].unique()"
   ]
  },
  {
   "cell_type": "markdown",
   "id": "9f408888",
   "metadata": {},
   "source": [
    "### Are the units and price unique for each product?"
   ]
  },
  {
   "cell_type": "markdown",
   "id": "e66dea9a",
   "metadata": {},
   "source": [
    "**Findings:**\n",
    "#### <p style=\"color:green;\">The unit for each product seems to not change over time (right plot). However, the price for the same product is not unique, and it is understandable because the price for a product can be increased over time. </p>\n",
    "**Solution:** \n",
    "#### <p style=\"color:green;\">To make prediction from historical data for future stocking purpose, it is best to set the latest price for each product (which is the highest price). </p>"
   ]
  },
  {
   "cell_type": "code",
   "execution_count": 378,
   "id": "4f606a3f",
   "metadata": {},
   "outputs": [
    {
     "data": {
      "text/plain": [
       "<AxesSubplot:xlabel='Units', ylabel='Count'>"
      ]
     },
     "execution_count": 378,
     "metadata": {},
     "output_type": "execute_result"
    },
    {
     "data": {
      "image/png": "[encoded data removed]",
      "text/plain": [
       "<Figure size 1440x360 with 2 Axes>"
      ]
     },
     "metadata": {
      "needs_background": "light"
     },
     "output_type": "display_data"
    }
   ],
   "source": [
    "unique = pharmacy_sale.groupby([\"ProductName\"])[\"Units\",'Price'].nunique().reset_index()\n",
    "fig, ax = plt.subplots(ncols=2, nrows=1, figsize=(20,5))\n",
    "sns.histplot(data=unique, x=\"Price\",ax=ax[0])\n",
    "sns.histplot(data=unique, x=\"Units\",ax=ax[1])"
   ]
  },
  {
   "cell_type": "markdown",
   "id": "acd3bb7c",
   "metadata": {},
   "source": [
    "**Transformation:**\n",
    "### <p style=\"color:blue;\"> Replace the price for each product with latest price. </p>\n"
   ]
  },
  {
   "cell_type": "code",
   "execution_count": 379,
   "id": "9d4f0105",
   "metadata": {},
   "outputs": [
    {
     "data": {
      "text/html": [
       "<div>\n",
       "<style scoped>\n",
       "    .dataframe tbody tr th:only-of-type {\n",
       "        vertical-align: middle;\n",
       "    }\n",
       "\n",
       "    .dataframe tbody tr th {\n",
       "        vertical-align: top;\n",
       "    }\n",
       "\n",
       "    .dataframe thead th {\n",
       "        text-align: right;\n",
       "    }\n",
       "</style>\n",
       "<table border=\"1\" class=\"dataframe\">\n",
       "  <thead>\n",
       "    <tr style=\"text-align: right;\">\n",
       "      <th></th>\n",
       "      <th>SupplyDate</th>\n",
       "      <th>Pharmacy</th>\n",
       "      <th>ProductName</th>\n",
       "      <th>Units</th>\n",
       "      <th>Price</th>\n",
       "    </tr>\n",
       "  </thead>\n",
       "  <tbody>\n",
       "    <tr>\n",
       "      <th>0</th>\n",
       "      <td>2014-01-01</td>\n",
       "      <td>A1</td>\n",
       "      <td>SYMBICORT TURBOHALER 160MCG/4,5MCG DOSES 1X120</td>\n",
       "      <td>1</td>\n",
       "      <td>61.86</td>\n",
       "    </tr>\n",
       "    <tr>\n",
       "      <th>1</th>\n",
       "      <td>2014-01-02</td>\n",
       "      <td>A1</td>\n",
       "      <td>SYMBICORT TURBOHALER 160MCG/4,5MCG DOSES 1X120</td>\n",
       "      <td>1</td>\n",
       "      <td>61.86</td>\n",
       "    </tr>\n",
       "    <tr>\n",
       "      <th>2</th>\n",
       "      <td>2014-01-02</td>\n",
       "      <td>A2</td>\n",
       "      <td>SYMBICORT TURBOHALER 160MCG/4,5MCG DOSES 1X120</td>\n",
       "      <td>1</td>\n",
       "      <td>61.86</td>\n",
       "    </tr>\n",
       "    <tr>\n",
       "      <th>3</th>\n",
       "      <td>2014-01-02</td>\n",
       "      <td>A2</td>\n",
       "      <td>SYMBICORT TURBOHALER 160MCG/4,5MCG DOSES 1X120</td>\n",
       "      <td>1</td>\n",
       "      <td>61.86</td>\n",
       "    </tr>\n",
       "    <tr>\n",
       "      <th>4</th>\n",
       "      <td>2014-01-03</td>\n",
       "      <td>A2</td>\n",
       "      <td>SYMBICORT TURBOHALER 160MCG/4,5MCG DOSES 1X120</td>\n",
       "      <td>1</td>\n",
       "      <td>61.86</td>\n",
       "    </tr>\n",
       "    <tr>\n",
       "      <th>...</th>\n",
       "      <td>...</td>\n",
       "      <td>...</td>\n",
       "      <td>...</td>\n",
       "      <td>...</td>\n",
       "      <td>...</td>\n",
       "    </tr>\n",
       "    <tr>\n",
       "      <th>1111822</th>\n",
       "      <td>2020-12-28</td>\n",
       "      <td>A2</td>\n",
       "      <td>QUETIAPINE KRKA 100MG FILMOMH TABL  60</td>\n",
       "      <td>60</td>\n",
       "      <td>31.69</td>\n",
       "    </tr>\n",
       "    <tr>\n",
       "      <th>1111823</th>\n",
       "      <td>2020-12-29</td>\n",
       "      <td>A1</td>\n",
       "      <td>QUETIAPINE KRKA 100MG FILMOMH TABL  60</td>\n",
       "      <td>60</td>\n",
       "      <td>31.69</td>\n",
       "    </tr>\n",
       "    <tr>\n",
       "      <th>1111824</th>\n",
       "      <td>2020-12-30</td>\n",
       "      <td>A6</td>\n",
       "      <td>CIMZIA 200MG OPL INJ 2 VOORGEV.PENNEN + 2 TAMPONS</td>\n",
       "      <td>2</td>\n",
       "      <td>1009.02</td>\n",
       "    </tr>\n",
       "    <tr>\n",
       "      <th>1111825</th>\n",
       "      <td>2020-12-30</td>\n",
       "      <td>A3</td>\n",
       "      <td>QUETIAPINE KRKA 200MG FILMOMH TABL  30</td>\n",
       "      <td>30</td>\n",
       "      <td>17.81</td>\n",
       "    </tr>\n",
       "    <tr>\n",
       "      <th>1111826</th>\n",
       "      <td>2020-12-31</td>\n",
       "      <td>A1</td>\n",
       "      <td>EZETIMIBE KRKA  10MG TABL 28</td>\n",
       "      <td>28</td>\n",
       "      <td>19.80</td>\n",
       "    </tr>\n",
       "  </tbody>\n",
       "</table>\n",
       "<p>1111827 rows × 5 columns</p>\n",
       "</div>"
      ],
      "text/plain": [
       "        SupplyDate Pharmacy  \\\n",
       "0       2014-01-01       A1   \n",
       "1       2014-01-02       A1   \n",
       "2       2014-01-02       A2   \n",
       "3       2014-01-02       A2   \n",
       "4       2014-01-03       A2   \n",
       "...            ...      ...   \n",
       "1111822 2020-12-28       A2   \n",
       "1111823 2020-12-29       A1   \n",
       "1111824 2020-12-30       A6   \n",
       "1111825 2020-12-30       A3   \n",
       "1111826 2020-12-31       A1   \n",
       "\n",
       "                                               ProductName  Units    Price  \n",
       "0           SYMBICORT TURBOHALER 160MCG/4,5MCG DOSES 1X120      1    61.86  \n",
       "1           SYMBICORT TURBOHALER 160MCG/4,5MCG DOSES 1X120      1    61.86  \n",
       "2           SYMBICORT TURBOHALER 160MCG/4,5MCG DOSES 1X120      1    61.86  \n",
       "3           SYMBICORT TURBOHALER 160MCG/4,5MCG DOSES 1X120      1    61.86  \n",
       "4           SYMBICORT TURBOHALER 160MCG/4,5MCG DOSES 1X120      1    61.86  \n",
       "...                                                    ...    ...      ...  \n",
       "1111822             QUETIAPINE KRKA 100MG FILMOMH TABL  60     60    31.69  \n",
       "1111823             QUETIAPINE KRKA 100MG FILMOMH TABL  60     60    31.69  \n",
       "1111824  CIMZIA 200MG OPL INJ 2 VOORGEV.PENNEN + 2 TAMPONS      2  1009.02  \n",
       "1111825             QUETIAPINE KRKA 200MG FILMOMH TABL  30     30    17.81  \n",
       "1111826                       EZETIMIBE KRKA  10MG TABL 28     28    19.80  \n",
       "\n",
       "[1111827 rows x 5 columns]"
      ]
     },
     "execution_count": 379,
     "metadata": {},
     "output_type": "execute_result"
    }
   ],
   "source": [
    "#First, make a dataframe with unique product and max price of that product\n",
    "prod_maxPrice = pharmacy_sale.groupby([\"ProductName\",'Units'])['Price'].max().reset_index()\n",
    "prod_maxPrice\n",
    "#Merge that df to original df\n",
    "pharmacy_sale = pharmacy_sale.merge(prod_maxPrice, how='inner', on=('ProductName','Units'), suffixes=('_y', '')).drop('Price_y',axis=1)\n",
    "pharmacy_sale"
   ]
  },
  {
   "cell_type": "markdown",
   "id": "2000338a",
   "metadata": {},
   "source": [
    "# 7. Data Transformation"
   ]
  },
  {
   "cell_type": "markdown",
   "id": "181f1335",
   "metadata": {},
   "source": [
    "### <p style=\"color:blue;\"> In this section we will transform our data in a way that it is able to do what we expect it to do </p>\n"
   ]
  },
  {
   "cell_type": "markdown",
   "id": "5876eaf2",
   "metadata": {},
   "source": [
    "### First we will get daily sales\n",
    "#### <p style=\"color:green;\">In that case we will create a new column Sale to calculate sold amount of a product in a day </p>\n"
   ]
  },
  {
   "cell_type": "code",
   "execution_count": 380,
   "id": "2e7d70a9",
   "metadata": {},
   "outputs": [
    {
     "data": {
      "text/html": [
       "<div>\n",
       "<style scoped>\n",
       "    .dataframe tbody tr th:only-of-type {\n",
       "        vertical-align: middle;\n",
       "    }\n",
       "\n",
       "    .dataframe tbody tr th {\n",
       "        vertical-align: top;\n",
       "    }\n",
       "\n",
       "    .dataframe thead th {\n",
       "        text-align: right;\n",
       "    }\n",
       "</style>\n",
       "<table border=\"1\" class=\"dataframe\">\n",
       "  <thead>\n",
       "    <tr style=\"text-align: right;\">\n",
       "      <th></th>\n",
       "      <th>SupplyDate</th>\n",
       "      <th>Pharmacy</th>\n",
       "      <th>ProductName</th>\n",
       "      <th>Units</th>\n",
       "      <th>Price</th>\n",
       "      <th>Sale</th>\n",
       "    </tr>\n",
       "  </thead>\n",
       "  <tbody>\n",
       "    <tr>\n",
       "      <th>0</th>\n",
       "      <td>2014-01-01</td>\n",
       "      <td>A1</td>\n",
       "      <td>ATROVENT MONODOSE 0,25MG/2ML VIALS 20</td>\n",
       "      <td>20</td>\n",
       "      <td>11.85</td>\n",
       "      <td>1</td>\n",
       "    </tr>\n",
       "    <tr>\n",
       "      <th>1</th>\n",
       "      <td>2014-01-01</td>\n",
       "      <td>A1</td>\n",
       "      <td>COVERAM  5MG/10MG COMP 90</td>\n",
       "      <td>90</td>\n",
       "      <td>66.90</td>\n",
       "      <td>1</td>\n",
       "    </tr>\n",
       "    <tr>\n",
       "      <th>2</th>\n",
       "      <td>2014-01-01</td>\n",
       "      <td>A1</td>\n",
       "      <td>ELTHYRONE COMP 100 X 0,050MG</td>\n",
       "      <td>100</td>\n",
       "      <td>6.39</td>\n",
       "      <td>1</td>\n",
       "    </tr>\n",
       "    <tr>\n",
       "      <th>3</th>\n",
       "      <td>2014-01-01</td>\n",
       "      <td>A1</td>\n",
       "      <td>GASVORM ZUURST AIR B10   2,10M3B200</td>\n",
       "      <td>1</td>\n",
       "      <td>12.15</td>\n",
       "      <td>1</td>\n",
       "    </tr>\n",
       "    <tr>\n",
       "      <th>4</th>\n",
       "      <td>2014-01-01</td>\n",
       "      <td>A1</td>\n",
       "      <td>GASVORM ZUURST AIR B20   4,20M3B200</td>\n",
       "      <td>1</td>\n",
       "      <td>24.31</td>\n",
       "      <td>1</td>\n",
       "    </tr>\n",
       "    <tr>\n",
       "      <th>...</th>\n",
       "      <td>...</td>\n",
       "      <td>...</td>\n",
       "      <td>...</td>\n",
       "      <td>...</td>\n",
       "      <td>...</td>\n",
       "      <td>...</td>\n",
       "    </tr>\n",
       "    <tr>\n",
       "      <th>772633</th>\n",
       "      <td>2020-12-31</td>\n",
       "      <td>A6</td>\n",
       "      <td>VENTOLIN AERO INHAL 200DOS 100MCG/D</td>\n",
       "      <td>1</td>\n",
       "      <td>8.26</td>\n",
       "      <td>2</td>\n",
       "    </tr>\n",
       "    <tr>\n",
       "      <th>772634</th>\n",
       "      <td>2020-12-31</td>\n",
       "      <td>A6</td>\n",
       "      <td>WELLBUTRIN XR 150 MG TABS 90 X 150 MG</td>\n",
       "      <td>90</td>\n",
       "      <td>74.39</td>\n",
       "      <td>1</td>\n",
       "    </tr>\n",
       "    <tr>\n",
       "      <th>772635</th>\n",
       "      <td>2020-12-31</td>\n",
       "      <td>A6</td>\n",
       "      <td>XALATAN 0,005 % COLLYRE 3X2,5 ML</td>\n",
       "      <td>3</td>\n",
       "      <td>62.28</td>\n",
       "      <td>1</td>\n",
       "    </tr>\n",
       "    <tr>\n",
       "      <th>772636</th>\n",
       "      <td>2020-12-31</td>\n",
       "      <td>A6</td>\n",
       "      <td>ZALDIAR 37,5 MG/325 MG FILMOMH TABL 100 BLISTER</td>\n",
       "      <td>100</td>\n",
       "      <td>17.10</td>\n",
       "      <td>1</td>\n",
       "    </tr>\n",
       "    <tr>\n",
       "      <th>772637</th>\n",
       "      <td>2020-12-31</td>\n",
       "      <td>A6</td>\n",
       "      <td>ZYLORIC 300 COMP  90 X 300 MG</td>\n",
       "      <td>90</td>\n",
       "      <td>14.23</td>\n",
       "      <td>1</td>\n",
       "    </tr>\n",
       "  </tbody>\n",
       "</table>\n",
       "<p>772638 rows × 6 columns</p>\n",
       "</div>"
      ],
      "text/plain": [
       "       SupplyDate Pharmacy                                      ProductName  \\\n",
       "0      2014-01-01       A1            ATROVENT MONODOSE 0,25MG/2ML VIALS 20   \n",
       "1      2014-01-01       A1                        COVERAM  5MG/10MG COMP 90   \n",
       "2      2014-01-01       A1                     ELTHYRONE COMP 100 X 0,050MG   \n",
       "3      2014-01-01       A1              GASVORM ZUURST AIR B10   2,10M3B200   \n",
       "4      2014-01-01       A1              GASVORM ZUURST AIR B20   4,20M3B200   \n",
       "...           ...      ...                                              ...   \n",
       "772633 2020-12-31       A6              VENTOLIN AERO INHAL 200DOS 100MCG/D   \n",
       "772634 2020-12-31       A6            WELLBUTRIN XR 150 MG TABS 90 X 150 MG   \n",
       "772635 2020-12-31       A6                 XALATAN 0,005 % COLLYRE 3X2,5 ML   \n",
       "772636 2020-12-31       A6  ZALDIAR 37,5 MG/325 MG FILMOMH TABL 100 BLISTER   \n",
       "772637 2020-12-31       A6                    ZYLORIC 300 COMP  90 X 300 MG   \n",
       "\n",
       "        Units  Price  Sale  \n",
       "0          20  11.85     1  \n",
       "1          90  66.90     1  \n",
       "2         100   6.39     1  \n",
       "3           1  12.15     1  \n",
       "4           1  24.31     1  \n",
       "...       ...    ...   ...  \n",
       "772633      1   8.26     2  \n",
       "772634     90  74.39     1  \n",
       "772635      3  62.28     1  \n",
       "772636    100  17.10     1  \n",
       "772637     90  14.23     1  \n",
       "\n",
       "[772638 rows x 6 columns]"
      ]
     },
     "execution_count": 380,
     "metadata": {},
     "output_type": "execute_result"
    }
   ],
   "source": [
    "pharmacy_sale = pharmacy_sale.groupby(['SupplyDate', 'Pharmacy', \"ProductName\",'Units','Price']).agg(Sale= ('ProductName','count')).reset_index()\n",
    "pharmacy_sale"
   ]
  },
  {
   "cell_type": "markdown",
   "id": "c9e352fe",
   "metadata": {},
   "source": [
    "#### <p style=\"color:green;\">The data below shows all the unique pharmacies that we have in our informa dataset </p>\n"
   ]
  },
  {
   "cell_type": "code",
   "execution_count": 381,
   "id": "a55d4705",
   "metadata": {},
   "outputs": [
    {
     "data": {
      "text/plain": [
       "array(['A1', 'A4', 'A2', 'A3', 'A5', 'A6'], dtype=object)"
      ]
     },
     "execution_count": 381,
     "metadata": {},
     "output_type": "execute_result"
    }
   ],
   "source": [
    "pharmacy_sale['Pharmacy'].unique()"
   ]
  },
  {
   "cell_type": "markdown",
   "id": "d7a271a1",
   "metadata": {},
   "source": [
    "### A graph showing sales across years for all pharmacies"
   ]
  },
  {
   "cell_type": "markdown",
   "id": "bb84fa36",
   "metadata": {},
   "source": [
    "#### <p style=\"color:green;\">In the year 2016 and 2017 we see a spike in sales. Next, we narrow it down to each pharmacy to see what cause a spike in 2016 </p>"
   ]
  },
  {
   "cell_type": "code",
   "execution_count": 382,
   "id": "629adf6e",
   "metadata": {
    "scrolled": true
   },
   "outputs": [
    {
     "data": {
      "image/png": "[encoded data removed]",
      "text/plain": [
       "<Figure size 1440x504 with 1 Axes>"
      ]
     },
     "metadata": {
      "needs_background": "light"
     },
     "output_type": "display_data"
    }
   ],
   "source": [
    "sale_year = pharmacy_sale.groupby(\"SupplyDate\").agg(Sale= ('Sale','sum'))\n",
    "sale_year.sort_index(inplace=True)\n",
    "plt.figure(figsize=(20,7))\n",
    "sns.lineplot(data=sale_year, x=\"SupplyDate\", y=\"Sale\")\n",
    "plt.title('Sale across year for all pharmacies')\n",
    "plt.show()"
   ]
  },
  {
   "cell_type": "markdown",
   "id": "8c92770f",
   "metadata": {},
   "source": [
    "### A graph showing sales across years for each pharmacy"
   ]
  },
  {
   "cell_type": "markdown",
   "id": "3e30cffe",
   "metadata": {},
   "source": [
    "<p style=\"color:green;\"> * Pharmacy A4 have unstable data, which caused the abnomality in the sale through the years. Also, the data for A4 only available until 2019, so it can be considered closed, so we can consider remove this pharmacy for modelling to avoid outliers </p> \n",
    "<p style=\"color:green;\"> * Pharmacy A6 does not have data for 2014. However, the goal of this notebook is to predict the stock for all pharmacy so we can leave this aside. </p> \n",
    "<p style=\"color:green;\"> * There are big gaps in the end of 2014 for all pharmacy and some small gaps across the year. We can try replace it with previous or next value. However, as Prophet is a model that can handle missing values and outliers, we can also leave this aside. If the accuracy score is not good enough, we can try to replace this manually. </p>"
   ]
  },
  {
   "cell_type": "code",
   "execution_count": 383,
   "id": "50b6f6f1",
   "metadata": {
    "scrolled": true
   },
   "outputs": [
    {
     "data": {
      "image/png": "[encoded data removed]",
      "text/plain": [
       "<Figure size 1440x1440 with 1 Axes>"
      ]
     },
     "metadata": {
      "needs_background": "light"
     },
     "output_type": "display_data"
    },
    {
     "data": {
      "image/png": "[encoded data removed]",
      "text/plain": [
       "<Figure size 1440x1440 with 1 Axes>"
      ]
     },
     "metadata": {
      "needs_background": "light"
     },
     "output_type": "display_data"
    },
    {
     "data": {
      "image/png": "[encoded data removed]",
      "text/plain": [
       "<Figure size 1440x1440 with 1 Axes>"
      ]
     },
     "metadata": {
      "needs_background": "light"
     },
     "output_type": "display_data"
    },
    {
     "data": {
      "image/png": "[encoded data removed]",
      "text/plain": [
       "<Figure size 1440x1440 with 1 Axes>"
      ]
     },
     "metadata": {
      "needs_background": "light"
     },
     "output_type": "display_data"
    },
    {
     "data": {
      "image/png": "[encoded data removed]",
      "text/plain": [
       "<Figure size 1440x1440 with 1 Axes>"
      ]
     },
     "metadata": {
      "needs_background": "light"
     },
     "output_type": "display_data"
    },
    {
     "data": {
      "image/png": "[encoded data removed]",
      "text/plain": [
       "<Figure size 1440x1440 with 1 Axes>"
      ]
     },
     "metadata": {
      "needs_background": "light"
     },
     "output_type": "display_data"
    }
   ],
   "source": [
    "sale_year_pharmacy = pharmacy_sale.groupby([\"SupplyDate\",'Pharmacy']).sum().reset_index()\n",
    "sale_year_pharmacy.sort_index(inplace=True)\n",
    "sale_year_pharmacy=sale_year_pharmacy.pivot(index='SupplyDate',columns='Pharmacy', values='Sale').reset_index()\n",
    "num=0\n",
    "for column in sale_year_pharmacy.drop('SupplyDate', axis=1):\n",
    "    num+=1\n",
    "    plt.figure(figsize=(20,20))    \n",
    "    # Find the right spot on the plot     \n",
    "    plt.subplot(6,1, num)\n",
    "    # Plot the lineplot\n",
    "    plt.plot(sale_year_pharmacy['SupplyDate'], sale_year_pharmacy[column], marker='', linewidth=1.9, alpha=0.9, label=column)\n",
    "    # Add title\n",
    "    plt.title(column, loc='left', fontsize=12, fontweight=0 )\n",
    "    # Same limits for every chart\n",
    "    #plt.xlim(min(sale_year_pharmacy['SupplyDate']),max(sale_year_pharmacy['SupplyDate']))\n",
    "    #plt.ylim(0,400)\n",
    "plt.title(\"Sale across year for each pharmacy\")\n",
    "plt.show()"
   ]
  },
  {
   "cell_type": "markdown",
   "id": "03421142",
   "metadata": {},
   "source": [
    "### <p style=\"color:blue;\"> We will now  drop the sales of Pharmacy A4</p>\n"
   ]
  },
  {
   "cell_type": "markdown",
   "id": "69e75b74",
   "metadata": {},
   "source": [
    "#### <p style=\"color:green;\"> As explained above, Pharmacy A4 have unstable data, which caused the abnomality in the sale through the years. Also, the data for A4 only available until 2019, so it can be considered closed, so we can consider remove this pharmacy for modelling to avoid outliers</p>"
   ]
  },
  {
   "cell_type": "code",
   "execution_count": 384,
   "id": "a48f1959",
   "metadata": {},
   "outputs": [],
   "source": [
    "pharmacy_sale = pharmacy_sale[pharmacy_sale['Pharmacy'] != 'A4'].reset_index()### Add monthly sale statistic columns"
   ]
  },
  {
   "cell_type": "markdown",
   "id": "38544881",
   "metadata": {},
   "source": [
    "### <p style=\"color:blue;\"> We will now add the monthly sales statistics columns </p>\n"
   ]
  },
  {
   "cell_type": "markdown",
   "id": "d6530100",
   "metadata": {},
   "source": [
    "#### <p style=\"color:green;\"> Add minsale, maxsale and average sale column determining the amount of sale on average for a month for each product</p>"
   ]
  },
  {
   "cell_type": "code",
   "execution_count": 385,
   "id": "01e7442e",
   "metadata": {},
   "outputs": [],
   "source": [
    "#a dataframe with product, min sale, max sale and average sale per month\n",
    "prod_sale_monthly = pharmacy_sale.groupby(['ProductName', 'Units', 'Price', pd.Grouper(key='SupplyDate', freq='MS')])['Sale'].sum().to_frame().reset_index()\n",
    "prod_stat_sale = prod_sale_monthly.groupby(['ProductName', 'Units', 'Price']).agg(MinSale= ('Sale','min'),MaxSale= ('Sale','max'),AvgSale= ('Sale','mean')).reset_index()"
   ]
  },
  {
   "cell_type": "code",
   "execution_count": 386,
   "id": "6b21e110",
   "metadata": {
    "scrolled": true
   },
   "outputs": [
    {
     "data": {
      "text/html": [
       "<div>\n",
       "<style scoped>\n",
       "    .dataframe tbody tr th:only-of-type {\n",
       "        vertical-align: middle;\n",
       "    }\n",
       "\n",
       "    .dataframe tbody tr th {\n",
       "        vertical-align: top;\n",
       "    }\n",
       "\n",
       "    .dataframe thead th {\n",
       "        text-align: right;\n",
       "    }\n",
       "</style>\n",
       "<table border=\"1\" class=\"dataframe\">\n",
       "  <thead>\n",
       "    <tr style=\"text-align: right;\">\n",
       "      <th></th>\n",
       "      <th>ProductName</th>\n",
       "      <th>Units</th>\n",
       "      <th>Price</th>\n",
       "      <th>SupplyDate</th>\n",
       "      <th>Sale</th>\n",
       "    </tr>\n",
       "  </thead>\n",
       "  <tbody>\n",
       "    <tr>\n",
       "      <th>0</th>\n",
       "      <td>AACIDEXAM 5MG/ML OPL INJ FL INJ  1 X 1ML</td>\n",
       "      <td>1</td>\n",
       "      <td>6.85</td>\n",
       "      <td>2014-03-01</td>\n",
       "      <td>1</td>\n",
       "    </tr>\n",
       "    <tr>\n",
       "      <th>1</th>\n",
       "      <td>AACIDEXAM 5MG/ML OPL INJ FL INJ  1 X 1ML</td>\n",
       "      <td>1</td>\n",
       "      <td>6.85</td>\n",
       "      <td>2014-04-01</td>\n",
       "      <td>2</td>\n",
       "    </tr>\n",
       "    <tr>\n",
       "      <th>2</th>\n",
       "      <td>AACIDEXAM 5MG/ML OPL INJ FL INJ  1 X 1ML</td>\n",
       "      <td>1</td>\n",
       "      <td>6.85</td>\n",
       "      <td>2014-06-01</td>\n",
       "      <td>2</td>\n",
       "    </tr>\n",
       "    <tr>\n",
       "      <th>3</th>\n",
       "      <td>AACIDEXAM 5MG/ML OPL INJ FL INJ  1 X 1ML</td>\n",
       "      <td>1</td>\n",
       "      <td>6.85</td>\n",
       "      <td>2014-08-01</td>\n",
       "      <td>1</td>\n",
       "    </tr>\n",
       "    <tr>\n",
       "      <th>4</th>\n",
       "      <td>AACIDEXAM 5MG/ML OPL INJ FL INJ  1 X 1ML</td>\n",
       "      <td>1</td>\n",
       "      <td>6.85</td>\n",
       "      <td>2015-02-01</td>\n",
       "      <td>2</td>\n",
       "    </tr>\n",
       "    <tr>\n",
       "      <th>...</th>\n",
       "      <td>...</td>\n",
       "      <td>...</td>\n",
       "      <td>...</td>\n",
       "      <td>...</td>\n",
       "      <td>...</td>\n",
       "    </tr>\n",
       "    <tr>\n",
       "      <th>140806</th>\n",
       "      <td>ZYRTEC IMPEXECO COMP PELL 40 X  10MG PIP</td>\n",
       "      <td>40</td>\n",
       "      <td>15.27</td>\n",
       "      <td>2016-06-01</td>\n",
       "      <td>2</td>\n",
       "    </tr>\n",
       "    <tr>\n",
       "      <th>140807</th>\n",
       "      <td>ZYRTEC IMPEXECO COMP PELL 40 X  10MG PIP</td>\n",
       "      <td>40</td>\n",
       "      <td>15.27</td>\n",
       "      <td>2016-10-01</td>\n",
       "      <td>1</td>\n",
       "    </tr>\n",
       "    <tr>\n",
       "      <th>140808</th>\n",
       "      <td>ZYRTEC IMPEXECO COMP PELL 40 X  10MG PIP</td>\n",
       "      <td>40</td>\n",
       "      <td>15.27</td>\n",
       "      <td>2016-12-01</td>\n",
       "      <td>1</td>\n",
       "    </tr>\n",
       "    <tr>\n",
       "      <th>140809</th>\n",
       "      <td>ZYRTEC IMPEXECO COMP PELL 40 X  10MG PIP</td>\n",
       "      <td>40</td>\n",
       "      <td>15.27</td>\n",
       "      <td>2017-01-01</td>\n",
       "      <td>3</td>\n",
       "    </tr>\n",
       "    <tr>\n",
       "      <th>140810</th>\n",
       "      <td>ZYRTEC IMPEXECO COMP PELL 40 X  10MG PIP</td>\n",
       "      <td>40</td>\n",
       "      <td>15.27</td>\n",
       "      <td>2017-04-01</td>\n",
       "      <td>1</td>\n",
       "    </tr>\n",
       "  </tbody>\n",
       "</table>\n",
       "<p>140811 rows × 5 columns</p>\n",
       "</div>"
      ],
      "text/plain": [
       "                                     ProductName  Units  Price SupplyDate  \\\n",
       "0       AACIDEXAM 5MG/ML OPL INJ FL INJ  1 X 1ML      1   6.85 2014-03-01   \n",
       "1       AACIDEXAM 5MG/ML OPL INJ FL INJ  1 X 1ML      1   6.85 2014-04-01   \n",
       "2       AACIDEXAM 5MG/ML OPL INJ FL INJ  1 X 1ML      1   6.85 2014-06-01   \n",
       "3       AACIDEXAM 5MG/ML OPL INJ FL INJ  1 X 1ML      1   6.85 2014-08-01   \n",
       "4       AACIDEXAM 5MG/ML OPL INJ FL INJ  1 X 1ML      1   6.85 2015-02-01   \n",
       "...                                          ...    ...    ...        ...   \n",
       "140806  ZYRTEC IMPEXECO COMP PELL 40 X  10MG PIP     40  15.27 2016-06-01   \n",
       "140807  ZYRTEC IMPEXECO COMP PELL 40 X  10MG PIP     40  15.27 2016-10-01   \n",
       "140808  ZYRTEC IMPEXECO COMP PELL 40 X  10MG PIP     40  15.27 2016-12-01   \n",
       "140809  ZYRTEC IMPEXECO COMP PELL 40 X  10MG PIP     40  15.27 2017-01-01   \n",
       "140810  ZYRTEC IMPEXECO COMP PELL 40 X  10MG PIP     40  15.27 2017-04-01   \n",
       "\n",
       "        Sale  \n",
       "0          1  \n",
       "1          2  \n",
       "2          2  \n",
       "3          1  \n",
       "4          2  \n",
       "...      ...  \n",
       "140806     2  \n",
       "140807     1  \n",
       "140808     1  \n",
       "140809     3  \n",
       "140810     1  \n",
       "\n",
       "[140811 rows x 5 columns]"
      ]
     },
     "execution_count": 386,
     "metadata": {},
     "output_type": "execute_result"
    }
   ],
   "source": [
    "prod_sale_monthly"
   ]
  },
  {
   "cell_type": "code",
   "execution_count": 387,
   "id": "cc52dc66",
   "metadata": {},
   "outputs": [
    {
     "data": {
      "text/html": [
       "<div>\n",
       "<style scoped>\n",
       "    .dataframe tbody tr th:only-of-type {\n",
       "        vertical-align: middle;\n",
       "    }\n",
       "\n",
       "    .dataframe tbody tr th {\n",
       "        vertical-align: top;\n",
       "    }\n",
       "\n",
       "    .dataframe thead th {\n",
       "        text-align: right;\n",
       "    }\n",
       "</style>\n",
       "<table border=\"1\" class=\"dataframe\">\n",
       "  <thead>\n",
       "    <tr style=\"text-align: right;\">\n",
       "      <th></th>\n",
       "      <th>ProductName</th>\n",
       "      <th>Units</th>\n",
       "      <th>Price</th>\n",
       "      <th>MinSale</th>\n",
       "      <th>MaxSale</th>\n",
       "      <th>AvgSale</th>\n",
       "    </tr>\n",
       "  </thead>\n",
       "  <tbody>\n",
       "    <tr>\n",
       "      <th>0</th>\n",
       "      <td>AACIDEXAM 5MG/ML OPL INJ FL INJ  1 X 1ML</td>\n",
       "      <td>1</td>\n",
       "      <td>6.85</td>\n",
       "      <td>1</td>\n",
       "      <td>7</td>\n",
       "      <td>1.965517</td>\n",
       "    </tr>\n",
       "    <tr>\n",
       "      <th>1</th>\n",
       "      <td>AACIDEXAM 5MG/ML OPL INJ FL INJ 10 X 1ML</td>\n",
       "      <td>10</td>\n",
       "      <td>19.99</td>\n",
       "      <td>4</td>\n",
       "      <td>4</td>\n",
       "      <td>4.000000</td>\n",
       "    </tr>\n",
       "    <tr>\n",
       "      <th>2</th>\n",
       "      <td>AACIFEMINE COMP  30 X 2 MG</td>\n",
       "      <td>30</td>\n",
       "      <td>9.30</td>\n",
       "      <td>1</td>\n",
       "      <td>22</td>\n",
       "      <td>8.409639</td>\n",
       "    </tr>\n",
       "    <tr>\n",
       "      <th>3</th>\n",
       "      <td>AACIFEMINE CREME VAG.TUBE+APPL. 15G</td>\n",
       "      <td>1</td>\n",
       "      <td>9.93</td>\n",
       "      <td>1</td>\n",
       "      <td>3</td>\n",
       "      <td>1.384615</td>\n",
       "    </tr>\n",
       "    <tr>\n",
       "      <th>4</th>\n",
       "      <td>ABASAGLAR KWIKPEN 100E/ML VOORGEV.PEN    5X3ML</td>\n",
       "      <td>5</td>\n",
       "      <td>51.11</td>\n",
       "      <td>1</td>\n",
       "      <td>2</td>\n",
       "      <td>1.500000</td>\n",
       "    </tr>\n",
       "    <tr>\n",
       "      <th>...</th>\n",
       "      <td>...</td>\n",
       "      <td>...</td>\n",
       "      <td>...</td>\n",
       "      <td>...</td>\n",
       "      <td>...</td>\n",
       "      <td>...</td>\n",
       "    </tr>\n",
       "    <tr>\n",
       "      <th>5192</th>\n",
       "      <td>ZYRTEC 10 MG FILMOMH TABL 40 X 10 MG</td>\n",
       "      <td>40</td>\n",
       "      <td>16.78</td>\n",
       "      <td>1</td>\n",
       "      <td>11</td>\n",
       "      <td>4.563636</td>\n",
       "    </tr>\n",
       "    <tr>\n",
       "      <th>5193</th>\n",
       "      <td>ZYRTEC DRINKB OPL 200ML 1MG/ML</td>\n",
       "      <td>1</td>\n",
       "      <td>12.29</td>\n",
       "      <td>1</td>\n",
       "      <td>5</td>\n",
       "      <td>2.301587</td>\n",
       "    </tr>\n",
       "    <tr>\n",
       "      <th>5194</th>\n",
       "      <td>ZYRTEC GUTT 20 ML X 10 MG/ML</td>\n",
       "      <td>1</td>\n",
       "      <td>11.01</td>\n",
       "      <td>1</td>\n",
       "      <td>3</td>\n",
       "      <td>1.450000</td>\n",
       "    </tr>\n",
       "    <tr>\n",
       "      <th>5195</th>\n",
       "      <td>ZYRTEC IMPEXECO COMP PELL 20 X  10MG PIP</td>\n",
       "      <td>20</td>\n",
       "      <td>11.15</td>\n",
       "      <td>1</td>\n",
       "      <td>4</td>\n",
       "      <td>1.666667</td>\n",
       "    </tr>\n",
       "    <tr>\n",
       "      <th>5196</th>\n",
       "      <td>ZYRTEC IMPEXECO COMP PELL 40 X  10MG PIP</td>\n",
       "      <td>40</td>\n",
       "      <td>15.27</td>\n",
       "      <td>1</td>\n",
       "      <td>3</td>\n",
       "      <td>1.500000</td>\n",
       "    </tr>\n",
       "  </tbody>\n",
       "</table>\n",
       "<p>5197 rows × 6 columns</p>\n",
       "</div>"
      ],
      "text/plain": [
       "                                         ProductName  Units  Price  MinSale  \\\n",
       "0           AACIDEXAM 5MG/ML OPL INJ FL INJ  1 X 1ML      1   6.85        1   \n",
       "1           AACIDEXAM 5MG/ML OPL INJ FL INJ 10 X 1ML     10  19.99        4   \n",
       "2                         AACIFEMINE COMP  30 X 2 MG     30   9.30        1   \n",
       "3                AACIFEMINE CREME VAG.TUBE+APPL. 15G      1   9.93        1   \n",
       "4     ABASAGLAR KWIKPEN 100E/ML VOORGEV.PEN    5X3ML      5  51.11        1   \n",
       "...                                              ...    ...    ...      ...   \n",
       "5192            ZYRTEC 10 MG FILMOMH TABL 40 X 10 MG     40  16.78        1   \n",
       "5193                  ZYRTEC DRINKB OPL 200ML 1MG/ML      1  12.29        1   \n",
       "5194                    ZYRTEC GUTT 20 ML X 10 MG/ML      1  11.01        1   \n",
       "5195        ZYRTEC IMPEXECO COMP PELL 20 X  10MG PIP     20  11.15        1   \n",
       "5196        ZYRTEC IMPEXECO COMP PELL 40 X  10MG PIP     40  15.27        1   \n",
       "\n",
       "      MaxSale   AvgSale  \n",
       "0           7  1.965517  \n",
       "1           4  4.000000  \n",
       "2          22  8.409639  \n",
       "3           3  1.384615  \n",
       "4           2  1.500000  \n",
       "...       ...       ...  \n",
       "5192       11  4.563636  \n",
       "5193        5  2.301587  \n",
       "5194        3  1.450000  \n",
       "5195        4  1.666667  \n",
       "5196        3  1.500000  \n",
       "\n",
       "[5197 rows x 6 columns]"
      ]
     },
     "execution_count": 387,
     "metadata": {},
     "output_type": "execute_result"
    }
   ],
   "source": [
    "prod_stat_sale"
   ]
  },
  {
   "cell_type": "markdown",
   "id": "a822d6d7",
   "metadata": {},
   "source": [
    "### <p style=\"color:blue;\"> We are going to now add an expiry period column to our data </p>\n"
   ]
  },
  {
   "cell_type": "markdown",
   "id": "c910ad9f",
   "metadata": {},
   "source": [
    "Add axpiry period column determining the amount of time the product can stay on shelf\n",
    "\n",
    "'Most medications have an expiration date between 12 to 60 months after they are manufactured.' - https://www.verywellmind.com/when-do-medications-actually-expire-380347  \n",
    "\n",
    "We generate a column that randomize the expiry period of a product ranging from 12 to 60 months for most of products. As the goal is also to handle the products that have short expiration date, we will replace some kind of product with expiry period is only 2 and 3 months."
   ]
  },
  {
   "cell_type": "code",
   "execution_count": 388,
   "id": "1e8ae914",
   "metadata": {
    "scrolled": true
   },
   "outputs": [
    {
     "data": {
      "text/html": [
       "<div>\n",
       "<style scoped>\n",
       "    .dataframe tbody tr th:only-of-type {\n",
       "        vertical-align: middle;\n",
       "    }\n",
       "\n",
       "    .dataframe tbody tr th {\n",
       "        vertical-align: top;\n",
       "    }\n",
       "\n",
       "    .dataframe thead th {\n",
       "        text-align: right;\n",
       "    }\n",
       "</style>\n",
       "<table border=\"1\" class=\"dataframe\">\n",
       "  <thead>\n",
       "    <tr style=\"text-align: right;\">\n",
       "      <th></th>\n",
       "      <th>ProductName</th>\n",
       "      <th>Units</th>\n",
       "      <th>Prod_TotalSale</th>\n",
       "      <th>ExpiryPeriod</th>\n",
       "      <th>Price</th>\n",
       "      <th>MinSale</th>\n",
       "      <th>MaxSale</th>\n",
       "      <th>AvgSale</th>\n",
       "    </tr>\n",
       "  </thead>\n",
       "  <tbody>\n",
       "    <tr>\n",
       "      <th>0</th>\n",
       "      <td>AACIDEXAM 5MG/ML OPL INJ FL INJ  1 X 1ML</td>\n",
       "      <td>1</td>\n",
       "      <td>57</td>\n",
       "      <td>3</td>\n",
       "      <td>6.85</td>\n",
       "      <td>1</td>\n",
       "      <td>7</td>\n",
       "      <td>1.965517</td>\n",
       "    </tr>\n",
       "    <tr>\n",
       "      <th>1</th>\n",
       "      <td>AACIDEXAM 5MG/ML OPL INJ FL INJ 10 X 1ML</td>\n",
       "      <td>10</td>\n",
       "      <td>4</td>\n",
       "      <td>3</td>\n",
       "      <td>19.99</td>\n",
       "      <td>4</td>\n",
       "      <td>4</td>\n",
       "      <td>4.000000</td>\n",
       "    </tr>\n",
       "    <tr>\n",
       "      <th>2</th>\n",
       "      <td>AACIFEMINE COMP  30 X 2 MG</td>\n",
       "      <td>30</td>\n",
       "      <td>698</td>\n",
       "      <td>30</td>\n",
       "      <td>9.30</td>\n",
       "      <td>1</td>\n",
       "      <td>22</td>\n",
       "      <td>8.409639</td>\n",
       "    </tr>\n",
       "    <tr>\n",
       "      <th>3</th>\n",
       "      <td>AACIFEMINE CREME VAG.TUBE+APPL. 15G</td>\n",
       "      <td>1</td>\n",
       "      <td>36</td>\n",
       "      <td>30</td>\n",
       "      <td>9.93</td>\n",
       "      <td>1</td>\n",
       "      <td>3</td>\n",
       "      <td>1.384615</td>\n",
       "    </tr>\n",
       "    <tr>\n",
       "      <th>4</th>\n",
       "      <td>ABASAGLAR KWIKPEN 100E/ML VOORGEV.PEN    5X3ML</td>\n",
       "      <td>5</td>\n",
       "      <td>24</td>\n",
       "      <td>48</td>\n",
       "      <td>51.11</td>\n",
       "      <td>1</td>\n",
       "      <td>2</td>\n",
       "      <td>1.500000</td>\n",
       "    </tr>\n",
       "    <tr>\n",
       "      <th>...</th>\n",
       "      <td>...</td>\n",
       "      <td>...</td>\n",
       "      <td>...</td>\n",
       "      <td>...</td>\n",
       "      <td>...</td>\n",
       "      <td>...</td>\n",
       "      <td>...</td>\n",
       "      <td>...</td>\n",
       "    </tr>\n",
       "    <tr>\n",
       "      <th>5192</th>\n",
       "      <td>ZYRTEC 10 MG FILMOMH TABL 40 X 10 MG</td>\n",
       "      <td>40</td>\n",
       "      <td>251</td>\n",
       "      <td>24</td>\n",
       "      <td>16.78</td>\n",
       "      <td>1</td>\n",
       "      <td>11</td>\n",
       "      <td>4.563636</td>\n",
       "    </tr>\n",
       "    <tr>\n",
       "      <th>5193</th>\n",
       "      <td>ZYRTEC DRINKB OPL 200ML 1MG/ML</td>\n",
       "      <td>1</td>\n",
       "      <td>145</td>\n",
       "      <td>24</td>\n",
       "      <td>12.29</td>\n",
       "      <td>1</td>\n",
       "      <td>5</td>\n",
       "      <td>2.301587</td>\n",
       "    </tr>\n",
       "    <tr>\n",
       "      <th>5194</th>\n",
       "      <td>ZYRTEC GUTT 20 ML X 10 MG/ML</td>\n",
       "      <td>1</td>\n",
       "      <td>29</td>\n",
       "      <td>24</td>\n",
       "      <td>11.01</td>\n",
       "      <td>1</td>\n",
       "      <td>3</td>\n",
       "      <td>1.450000</td>\n",
       "    </tr>\n",
       "    <tr>\n",
       "      <th>5195</th>\n",
       "      <td>ZYRTEC IMPEXECO COMP PELL 20 X  10MG PIP</td>\n",
       "      <td>20</td>\n",
       "      <td>10</td>\n",
       "      <td>24</td>\n",
       "      <td>11.15</td>\n",
       "      <td>1</td>\n",
       "      <td>4</td>\n",
       "      <td>1.666667</td>\n",
       "    </tr>\n",
       "    <tr>\n",
       "      <th>5196</th>\n",
       "      <td>ZYRTEC IMPEXECO COMP PELL 40 X  10MG PIP</td>\n",
       "      <td>40</td>\n",
       "      <td>9</td>\n",
       "      <td>24</td>\n",
       "      <td>15.27</td>\n",
       "      <td>1</td>\n",
       "      <td>3</td>\n",
       "      <td>1.500000</td>\n",
       "    </tr>\n",
       "  </tbody>\n",
       "</table>\n",
       "<p>5197 rows × 8 columns</p>\n",
       "</div>"
      ],
      "text/plain": [
       "                                         ProductName  Units  Prod_TotalSale  \\\n",
       "0           AACIDEXAM 5MG/ML OPL INJ FL INJ  1 X 1ML      1              57   \n",
       "1           AACIDEXAM 5MG/ML OPL INJ FL INJ 10 X 1ML     10               4   \n",
       "2                         AACIFEMINE COMP  30 X 2 MG     30             698   \n",
       "3                AACIFEMINE CREME VAG.TUBE+APPL. 15G      1              36   \n",
       "4     ABASAGLAR KWIKPEN 100E/ML VOORGEV.PEN    5X3ML      5              24   \n",
       "...                                              ...    ...             ...   \n",
       "5192            ZYRTEC 10 MG FILMOMH TABL 40 X 10 MG     40             251   \n",
       "5193                  ZYRTEC DRINKB OPL 200ML 1MG/ML      1             145   \n",
       "5194                    ZYRTEC GUTT 20 ML X 10 MG/ML      1              29   \n",
       "5195        ZYRTEC IMPEXECO COMP PELL 20 X  10MG PIP     20              10   \n",
       "5196        ZYRTEC IMPEXECO COMP PELL 40 X  10MG PIP     40               9   \n",
       "\n",
       "      ExpiryPeriod  Price  MinSale  MaxSale   AvgSale  \n",
       "0                3   6.85        1        7  1.965517  \n",
       "1                3  19.99        4        4  4.000000  \n",
       "2               30   9.30        1       22  8.409639  \n",
       "3               30   9.93        1        3  1.384615  \n",
       "4               48  51.11        1        2  1.500000  \n",
       "...            ...    ...      ...      ...       ...  \n",
       "5192            24  16.78        1       11  4.563636  \n",
       "5193            24  12.29        1        5  2.301587  \n",
       "5194            24  11.01        1        3  1.450000  \n",
       "5195            24  11.15        1        4  1.666667  \n",
       "5196            24  15.27        1        3  1.500000  \n",
       "\n",
       "[5197 rows x 8 columns]"
      ]
     },
     "execution_count": 388,
     "metadata": {},
     "output_type": "execute_result"
    }
   ],
   "source": [
    "import random\n",
    "expiry = pharmacy_sale.groupby(['ProductName','Units']).agg(Prod_TotalSale= ('Sale','sum')).reset_index()\n",
    "expiry['Product'] = expiry['ProductName'].apply(lambda x: x.split()[0])\n",
    "exp = [2,3,12,18,24,30,36,42,48,54,60]\n",
    "weight = [5,5,22,44,44,44,44,33,33,33,33]\n",
    "#add period for product\n",
    "expiry_prod = expiry.groupby(['Product'])['Prod_TotalSale'].sum().to_frame().reset_index().drop(['Prod_TotalSale'],axis=1)\n",
    "expiry_prod['ExpiryPeriod'] = random.choices(exp, weights=weight, k = len(expiry_prod)) \n",
    "expiry = expiry.merge(expiry_prod, how='inner', on=('Product'), suffixes=('', '_prod')).drop(['Product'],axis=1)\n",
    "#merge to statistic dataframe\n",
    "prod_sale_df = expiry.merge(prod_stat_sale, how='inner', on=(['ProductName','Units',]), suffixes=('', '_prod'))\n",
    "prod_sale_df"
   ]
  },
  {
   "cell_type": "markdown",
   "id": "5f05c9c4",
   "metadata": {},
   "source": [
    "### Check amount of random expiry dates"
   ]
  },
  {
   "cell_type": "code",
   "execution_count": 389,
   "id": "8c836d2c",
   "metadata": {
    "scrolled": true
   },
   "outputs": [
    {
     "data": {
      "text/html": [
       "<div>\n",
       "<style scoped>\n",
       "    .dataframe tbody tr th:only-of-type {\n",
       "        vertical-align: middle;\n",
       "    }\n",
       "\n",
       "    .dataframe tbody tr th {\n",
       "        vertical-align: top;\n",
       "    }\n",
       "\n",
       "    .dataframe thead th {\n",
       "        text-align: right;\n",
       "    }\n",
       "</style>\n",
       "<table border=\"1\" class=\"dataframe\">\n",
       "  <thead>\n",
       "    <tr style=\"text-align: right;\">\n",
       "      <th></th>\n",
       "      <th>ExpiryPeriod</th>\n",
       "      <th>RandomAmt</th>\n",
       "      <th>%</th>\n",
       "    </tr>\n",
       "  </thead>\n",
       "  <tbody>\n",
       "    <tr>\n",
       "      <th>0</th>\n",
       "      <td>2</td>\n",
       "      <td>86</td>\n",
       "      <td>1.654801</td>\n",
       "    </tr>\n",
       "    <tr>\n",
       "      <th>1</th>\n",
       "      <td>3</td>\n",
       "      <td>193</td>\n",
       "      <td>3.713681</td>\n",
       "    </tr>\n",
       "    <tr>\n",
       "      <th>2</th>\n",
       "      <td>12</td>\n",
       "      <td>235</td>\n",
       "      <td>4.521840</td>\n",
       "    </tr>\n",
       "    <tr>\n",
       "      <th>3</th>\n",
       "      <td>18</td>\n",
       "      <td>623</td>\n",
       "      <td>11.987685</td>\n",
       "    </tr>\n",
       "    <tr>\n",
       "      <th>4</th>\n",
       "      <td>24</td>\n",
       "      <td>623</td>\n",
       "      <td>11.987685</td>\n",
       "    </tr>\n",
       "    <tr>\n",
       "      <th>5</th>\n",
       "      <td>30</td>\n",
       "      <td>730</td>\n",
       "      <td>14.046565</td>\n",
       "    </tr>\n",
       "    <tr>\n",
       "      <th>6</th>\n",
       "      <td>36</td>\n",
       "      <td>694</td>\n",
       "      <td>13.353858</td>\n",
       "    </tr>\n",
       "    <tr>\n",
       "      <th>7</th>\n",
       "      <td>42</td>\n",
       "      <td>443</td>\n",
       "      <td>8.524149</td>\n",
       "    </tr>\n",
       "    <tr>\n",
       "      <th>8</th>\n",
       "      <td>48</td>\n",
       "      <td>583</td>\n",
       "      <td>11.218010</td>\n",
       "    </tr>\n",
       "    <tr>\n",
       "      <th>9</th>\n",
       "      <td>54</td>\n",
       "      <td>503</td>\n",
       "      <td>9.678661</td>\n",
       "    </tr>\n",
       "    <tr>\n",
       "      <th>10</th>\n",
       "      <td>60</td>\n",
       "      <td>484</td>\n",
       "      <td>9.313065</td>\n",
       "    </tr>\n",
       "  </tbody>\n",
       "</table>\n",
       "</div>"
      ],
      "text/plain": [
       "    ExpiryPeriod  RandomAmt          %\n",
       "0              2         86   1.654801\n",
       "1              3        193   3.713681\n",
       "2             12        235   4.521840\n",
       "3             18        623  11.987685\n",
       "4             24        623  11.987685\n",
       "5             30        730  14.046565\n",
       "6             36        694  13.353858\n",
       "7             42        443   8.524149\n",
       "8             48        583  11.218010\n",
       "9             54        503   9.678661\n",
       "10            60        484   9.313065"
      ]
     },
     "execution_count": 389,
     "metadata": {},
     "output_type": "execute_result"
    }
   ],
   "source": [
    "check = prod_sale_df.groupby(['ExpiryPeriod'])['ProductName'].count().reset_index()\n",
    "check.columns = ['ExpiryPeriod', 'RandomAmt']\n",
    "check['%'] = 100*check['RandomAmt']/sum(check['RandomAmt'])\n",
    "check"
   ]
  },
  {
   "cell_type": "code",
   "execution_count": 390,
   "id": "cf5ce371",
   "metadata": {
    "scrolled": true
   },
   "outputs": [
    {
     "data": {
      "text/html": [
       "<div>\n",
       "<style scoped>\n",
       "    .dataframe tbody tr th:only-of-type {\n",
       "        vertical-align: middle;\n",
       "    }\n",
       "\n",
       "    .dataframe tbody tr th {\n",
       "        vertical-align: top;\n",
       "    }\n",
       "\n",
       "    .dataframe thead th {\n",
       "        text-align: right;\n",
       "    }\n",
       "</style>\n",
       "<table border=\"1\" class=\"dataframe\">\n",
       "  <thead>\n",
       "    <tr style=\"text-align: right;\">\n",
       "      <th></th>\n",
       "      <th>ProductName</th>\n",
       "      <th>Units</th>\n",
       "      <th>Price</th>\n",
       "      <th>SupplyDate</th>\n",
       "      <th>Sale</th>\n",
       "      <th>Prod_TotalSale</th>\n",
       "      <th>ExpiryPeriod</th>\n",
       "      <th>MinSale</th>\n",
       "      <th>MaxSale</th>\n",
       "      <th>AvgSale</th>\n",
       "    </tr>\n",
       "  </thead>\n",
       "  <tbody>\n",
       "    <tr>\n",
       "      <th>0</th>\n",
       "      <td>AACIDEXAM 5MG/ML OPL INJ FL INJ  1 X 1ML</td>\n",
       "      <td>1</td>\n",
       "      <td>6.85</td>\n",
       "      <td>2014-03-01</td>\n",
       "      <td>1</td>\n",
       "      <td>57</td>\n",
       "      <td>3</td>\n",
       "      <td>1</td>\n",
       "      <td>7</td>\n",
       "      <td>1.965517</td>\n",
       "    </tr>\n",
       "    <tr>\n",
       "      <th>1</th>\n",
       "      <td>AACIDEXAM 5MG/ML OPL INJ FL INJ  1 X 1ML</td>\n",
       "      <td>1</td>\n",
       "      <td>6.85</td>\n",
       "      <td>2014-04-01</td>\n",
       "      <td>2</td>\n",
       "      <td>57</td>\n",
       "      <td>3</td>\n",
       "      <td>1</td>\n",
       "      <td>7</td>\n",
       "      <td>1.965517</td>\n",
       "    </tr>\n",
       "    <tr>\n",
       "      <th>2</th>\n",
       "      <td>AACIDEXAM 5MG/ML OPL INJ FL INJ  1 X 1ML</td>\n",
       "      <td>1</td>\n",
       "      <td>6.85</td>\n",
       "      <td>2014-06-01</td>\n",
       "      <td>2</td>\n",
       "      <td>57</td>\n",
       "      <td>3</td>\n",
       "      <td>1</td>\n",
       "      <td>7</td>\n",
       "      <td>1.965517</td>\n",
       "    </tr>\n",
       "    <tr>\n",
       "      <th>3</th>\n",
       "      <td>AACIDEXAM 5MG/ML OPL INJ FL INJ  1 X 1ML</td>\n",
       "      <td>1</td>\n",
       "      <td>6.85</td>\n",
       "      <td>2014-08-01</td>\n",
       "      <td>1</td>\n",
       "      <td>57</td>\n",
       "      <td>3</td>\n",
       "      <td>1</td>\n",
       "      <td>7</td>\n",
       "      <td>1.965517</td>\n",
       "    </tr>\n",
       "    <tr>\n",
       "      <th>4</th>\n",
       "      <td>AACIDEXAM 5MG/ML OPL INJ FL INJ  1 X 1ML</td>\n",
       "      <td>1</td>\n",
       "      <td>6.85</td>\n",
       "      <td>2015-02-01</td>\n",
       "      <td>2</td>\n",
       "      <td>57</td>\n",
       "      <td>3</td>\n",
       "      <td>1</td>\n",
       "      <td>7</td>\n",
       "      <td>1.965517</td>\n",
       "    </tr>\n",
       "    <tr>\n",
       "      <th>...</th>\n",
       "      <td>...</td>\n",
       "      <td>...</td>\n",
       "      <td>...</td>\n",
       "      <td>...</td>\n",
       "      <td>...</td>\n",
       "      <td>...</td>\n",
       "      <td>...</td>\n",
       "      <td>...</td>\n",
       "      <td>...</td>\n",
       "      <td>...</td>\n",
       "    </tr>\n",
       "    <tr>\n",
       "      <th>140806</th>\n",
       "      <td>ZYRTEC IMPEXECO COMP PELL 40 X  10MG PIP</td>\n",
       "      <td>40</td>\n",
       "      <td>15.27</td>\n",
       "      <td>2016-06-01</td>\n",
       "      <td>2</td>\n",
       "      <td>9</td>\n",
       "      <td>24</td>\n",
       "      <td>1</td>\n",
       "      <td>3</td>\n",
       "      <td>1.500000</td>\n",
       "    </tr>\n",
       "    <tr>\n",
       "      <th>140807</th>\n",
       "      <td>ZYRTEC IMPEXECO COMP PELL 40 X  10MG PIP</td>\n",
       "      <td>40</td>\n",
       "      <td>15.27</td>\n",
       "      <td>2016-10-01</td>\n",
       "      <td>1</td>\n",
       "      <td>9</td>\n",
       "      <td>24</td>\n",
       "      <td>1</td>\n",
       "      <td>3</td>\n",
       "      <td>1.500000</td>\n",
       "    </tr>\n",
       "    <tr>\n",
       "      <th>140808</th>\n",
       "      <td>ZYRTEC IMPEXECO COMP PELL 40 X  10MG PIP</td>\n",
       "      <td>40</td>\n",
       "      <td>15.27</td>\n",
       "      <td>2016-12-01</td>\n",
       "      <td>1</td>\n",
       "      <td>9</td>\n",
       "      <td>24</td>\n",
       "      <td>1</td>\n",
       "      <td>3</td>\n",
       "      <td>1.500000</td>\n",
       "    </tr>\n",
       "    <tr>\n",
       "      <th>140809</th>\n",
       "      <td>ZYRTEC IMPEXECO COMP PELL 40 X  10MG PIP</td>\n",
       "      <td>40</td>\n",
       "      <td>15.27</td>\n",
       "      <td>2017-01-01</td>\n",
       "      <td>3</td>\n",
       "      <td>9</td>\n",
       "      <td>24</td>\n",
       "      <td>1</td>\n",
       "      <td>3</td>\n",
       "      <td>1.500000</td>\n",
       "    </tr>\n",
       "    <tr>\n",
       "      <th>140810</th>\n",
       "      <td>ZYRTEC IMPEXECO COMP PELL 40 X  10MG PIP</td>\n",
       "      <td>40</td>\n",
       "      <td>15.27</td>\n",
       "      <td>2017-04-01</td>\n",
       "      <td>1</td>\n",
       "      <td>9</td>\n",
       "      <td>24</td>\n",
       "      <td>1</td>\n",
       "      <td>3</td>\n",
       "      <td>1.500000</td>\n",
       "    </tr>\n",
       "  </tbody>\n",
       "</table>\n",
       "<p>140811 rows × 10 columns</p>\n",
       "</div>"
      ],
      "text/plain": [
       "                                     ProductName  Units  Price SupplyDate  \\\n",
       "0       AACIDEXAM 5MG/ML OPL INJ FL INJ  1 X 1ML      1   6.85 2014-03-01   \n",
       "1       AACIDEXAM 5MG/ML OPL INJ FL INJ  1 X 1ML      1   6.85 2014-04-01   \n",
       "2       AACIDEXAM 5MG/ML OPL INJ FL INJ  1 X 1ML      1   6.85 2014-06-01   \n",
       "3       AACIDEXAM 5MG/ML OPL INJ FL INJ  1 X 1ML      1   6.85 2014-08-01   \n",
       "4       AACIDEXAM 5MG/ML OPL INJ FL INJ  1 X 1ML      1   6.85 2015-02-01   \n",
       "...                                          ...    ...    ...        ...   \n",
       "140806  ZYRTEC IMPEXECO COMP PELL 40 X  10MG PIP     40  15.27 2016-06-01   \n",
       "140807  ZYRTEC IMPEXECO COMP PELL 40 X  10MG PIP     40  15.27 2016-10-01   \n",
       "140808  ZYRTEC IMPEXECO COMP PELL 40 X  10MG PIP     40  15.27 2016-12-01   \n",
       "140809  ZYRTEC IMPEXECO COMP PELL 40 X  10MG PIP     40  15.27 2017-01-01   \n",
       "140810  ZYRTEC IMPEXECO COMP PELL 40 X  10MG PIP     40  15.27 2017-04-01   \n",
       "\n",
       "        Sale  Prod_TotalSale  ExpiryPeriod  MinSale  MaxSale   AvgSale  \n",
       "0          1              57             3        1        7  1.965517  \n",
       "1          2              57             3        1        7  1.965517  \n",
       "2          2              57             3        1        7  1.965517  \n",
       "3          1              57             3        1        7  1.965517  \n",
       "4          2              57             3        1        7  1.965517  \n",
       "...      ...             ...           ...      ...      ...       ...  \n",
       "140806     2               9            24        1        3  1.500000  \n",
       "140807     1               9            24        1        3  1.500000  \n",
       "140808     1               9            24        1        3  1.500000  \n",
       "140809     3               9            24        1        3  1.500000  \n",
       "140810     1               9            24        1        3  1.500000  \n",
       "\n",
       "[140811 rows x 10 columns]"
      ]
     },
     "execution_count": 390,
     "metadata": {},
     "output_type": "execute_result"
    }
   ],
   "source": [
    "monthly_sale_df = prod_sale_monthly.merge(prod_sale_df, how='inner', on=(['ProductName','Units', 'Price']), suffixes=('', '_prod'))\n",
    "monthly_sale_df"
   ]
  },
  {
   "cell_type": "markdown",
   "id": "3e55cfd2",
   "metadata": {},
   "source": [
    "# 8. Model selection\n",
    "#### <p style=\"color:blue;\">KPIs for model selection </p>\n",
    "- Be able to handle time series dataset\n",
    "- Be able to handle outliers\n",
    "- Take into account seasonaility and stationarity\n",
    "- Can handle big dataset fast \n",
    "\n",
    "#### <p style=\"color:blue;\">Model selection </p>\n",
    "There are 2 models being chosen for the problem regarding the KPI\n",
    "1. Prophet\n",
    "Why do we choose Prophet\n",
    "\n",
    "Prophet is a procedure for forecasting time series data according to additive model where non-linear trends are fit with yearly, weekly, and daily seasonality, plus holiday effects. Traditional model like ARIMA, SARIMA have many stringent data requirements like stationarity and equally spaced values and it is complicated when it comes to multivariate dataset. Other time forecasting model such as RNN, LSTM can be highly complex, and we choose Prophet also because they it is robust to missing data and handle outliers well.\n",
    "\n",
    "https://facebook.github.io/prophet/\n",
    "\n",
    "2. LSTM\n",
    "Why do we chose LSTM\n",
    "Fast and suitable for big dataset bla bla"
   ]
  },
  {
   "cell_type": "markdown",
   "id": "9fe7ac2a",
   "metadata": {},
   "source": [
    "# 9. Clustering\n",
    "There are 5760 unique products in the dataset for which we need to forecast the sale for next month. It is totally possible to apply the chosen model to each of the product. However, as there are limitation in computer capacity, and the fact that there are some products have unstable sale, we will group products into groups depending on its sale and expiry period. By doing it, we can run the model faster and also secure the accuracy of the result. \n",
    "\n",
    "### <p style=\"color:blue;\">  We cluster by sale and expiry period </p>"
   ]
  },
  {
   "cell_type": "code",
   "execution_count": 391,
   "id": "fd567400",
   "metadata": {},
   "outputs": [
    {
     "data": {
      "text/html": [
       "<div>\n",
       "<style scoped>\n",
       "    .dataframe tbody tr th:only-of-type {\n",
       "        vertical-align: middle;\n",
       "    }\n",
       "\n",
       "    .dataframe tbody tr th {\n",
       "        vertical-align: top;\n",
       "    }\n",
       "\n",
       "    .dataframe thead th {\n",
       "        text-align: right;\n",
       "    }\n",
       "</style>\n",
       "<table border=\"1\" class=\"dataframe\">\n",
       "  <thead>\n",
       "    <tr style=\"text-align: right;\">\n",
       "      <th></th>\n",
       "      <th>ExpiryPeriod</th>\n",
       "      <th>Prod_TotalSale</th>\n",
       "      <th>Cluster</th>\n",
       "    </tr>\n",
       "  </thead>\n",
       "  <tbody>\n",
       "    <tr>\n",
       "      <th>0</th>\n",
       "      <td>3</td>\n",
       "      <td>57</td>\n",
       "      <td>Cluster 223</td>\n",
       "    </tr>\n",
       "    <tr>\n",
       "      <th>1</th>\n",
       "      <td>3</td>\n",
       "      <td>4</td>\n",
       "      <td>Cluster 65</td>\n",
       "    </tr>\n",
       "    <tr>\n",
       "      <th>2</th>\n",
       "      <td>30</td>\n",
       "      <td>698</td>\n",
       "      <td>Cluster 27</td>\n",
       "    </tr>\n",
       "    <tr>\n",
       "      <th>3</th>\n",
       "      <td>30</td>\n",
       "      <td>36</td>\n",
       "      <td>Cluster 181</td>\n",
       "    </tr>\n",
       "    <tr>\n",
       "      <th>4</th>\n",
       "      <td>48</td>\n",
       "      <td>24</td>\n",
       "      <td>Cluster 76</td>\n",
       "    </tr>\n",
       "    <tr>\n",
       "      <th>...</th>\n",
       "      <td>...</td>\n",
       "      <td>...</td>\n",
       "      <td>...</td>\n",
       "    </tr>\n",
       "    <tr>\n",
       "      <th>5192</th>\n",
       "      <td>24</td>\n",
       "      <td>251</td>\n",
       "      <td>Cluster 32</td>\n",
       "    </tr>\n",
       "    <tr>\n",
       "      <th>5193</th>\n",
       "      <td>24</td>\n",
       "      <td>145</td>\n",
       "      <td>Cluster 241</td>\n",
       "    </tr>\n",
       "    <tr>\n",
       "      <th>5194</th>\n",
       "      <td>24</td>\n",
       "      <td>29</td>\n",
       "      <td>Cluster 204</td>\n",
       "    </tr>\n",
       "    <tr>\n",
       "      <th>5195</th>\n",
       "      <td>24</td>\n",
       "      <td>10</td>\n",
       "      <td>Cluster 112</td>\n",
       "    </tr>\n",
       "    <tr>\n",
       "      <th>5196</th>\n",
       "      <td>24</td>\n",
       "      <td>9</td>\n",
       "      <td>Cluster 112</td>\n",
       "    </tr>\n",
       "  </tbody>\n",
       "</table>\n",
       "<p>5197 rows × 3 columns</p>\n",
       "</div>"
      ],
      "text/plain": [
       "      ExpiryPeriod  Prod_TotalSale      Cluster\n",
       "0                3              57  Cluster 223\n",
       "1                3               4   Cluster 65\n",
       "2               30             698   Cluster 27\n",
       "3               30              36  Cluster 181\n",
       "4               48              24   Cluster 76\n",
       "...            ...             ...          ...\n",
       "5192            24             251   Cluster 32\n",
       "5193            24             145  Cluster 241\n",
       "5194            24              29  Cluster 204\n",
       "5195            24              10  Cluster 112\n",
       "5196            24               9  Cluster 112\n",
       "\n",
       "[5197 rows x 3 columns]"
      ]
     },
     "execution_count": 391,
     "metadata": {},
     "output_type": "execute_result"
    }
   ],
   "source": [
    "Kmean_cluster = prod_sale_df[['ExpiryPeriod','Prod_TotalSale']]\n",
    "\n",
    "from sklearn.cluster import KMeans\n",
    "def get_cluster(df, n_clusters):\n",
    "    kmeans = KMeans(n_clusters=n_clusters, random_state=10)\n",
    "    kmeans.fit(df)\n",
    "    df['Cluster'] = kmeans.labels_.astype(str)\n",
    "    df['Cluster'] = 'Cluster ' + df['Cluster']\n",
    "    return df\n",
    "Kmean_cluster_result = get_cluster(Kmean_cluster, 300)\n",
    "Kmean_cluster_result"
   ]
  },
  {
   "cell_type": "code",
   "execution_count": 392,
   "id": "7102af50",
   "metadata": {
    "scrolled": true
   },
   "outputs": [
    {
     "data": {
      "text/html": [
       "<div>\n",
       "<style scoped>\n",
       "    .dataframe tbody tr th:only-of-type {\n",
       "        vertical-align: middle;\n",
       "    }\n",
       "\n",
       "    .dataframe tbody tr th {\n",
       "        vertical-align: top;\n",
       "    }\n",
       "\n",
       "    .dataframe thead tr th {\n",
       "        text-align: left;\n",
       "    }\n",
       "\n",
       "    .dataframe thead tr:last-of-type th {\n",
       "        text-align: right;\n",
       "    }\n",
       "</style>\n",
       "<table border=\"1\" class=\"dataframe\">\n",
       "  <thead>\n",
       "    <tr>\n",
       "      <th></th>\n",
       "      <th>Cluster</th>\n",
       "      <th colspan=\"4\" halign=\"left\">Prod_TotalSale</th>\n",
       "      <th colspan=\"4\" halign=\"left\">ExpiryPeriod</th>\n",
       "    </tr>\n",
       "    <tr>\n",
       "      <th></th>\n",
       "      <th>count</th>\n",
       "      <th>mean</th>\n",
       "      <th>min</th>\n",
       "      <th>median</th>\n",
       "      <th>max</th>\n",
       "      <th>mean</th>\n",
       "      <th>min</th>\n",
       "      <th>median</th>\n",
       "      <th>max</th>\n",
       "    </tr>\n",
       "    <tr>\n",
       "      <th>Cluster</th>\n",
       "      <th></th>\n",
       "      <th></th>\n",
       "      <th></th>\n",
       "      <th></th>\n",
       "      <th></th>\n",
       "      <th></th>\n",
       "      <th></th>\n",
       "      <th></th>\n",
       "      <th></th>\n",
       "    </tr>\n",
       "  </thead>\n",
       "  <tbody>\n",
       "    <tr>\n",
       "      <th>Cluster 277</th>\n",
       "      <td>178</td>\n",
       "      <td>1.640449</td>\n",
       "      <td>1</td>\n",
       "      <td>1.0</td>\n",
       "      <td>3</td>\n",
       "      <td>36.000000</td>\n",
       "      <td>36</td>\n",
       "      <td>36.0</td>\n",
       "      <td>36</td>\n",
       "    </tr>\n",
       "    <tr>\n",
       "      <th>Cluster 207</th>\n",
       "      <td>112</td>\n",
       "      <td>1.651786</td>\n",
       "      <td>1</td>\n",
       "      <td>1.0</td>\n",
       "      <td>3</td>\n",
       "      <td>48.000000</td>\n",
       "      <td>48</td>\n",
       "      <td>48.0</td>\n",
       "      <td>48</td>\n",
       "    </tr>\n",
       "    <tr>\n",
       "      <th>Cluster 65</th>\n",
       "      <td>95</td>\n",
       "      <td>2.357895</td>\n",
       "      <td>1</td>\n",
       "      <td>2.0</td>\n",
       "      <td>6</td>\n",
       "      <td>2.663158</td>\n",
       "      <td>2</td>\n",
       "      <td>3.0</td>\n",
       "      <td>3</td>\n",
       "    </tr>\n",
       "    <tr>\n",
       "      <th>Cluster 123</th>\n",
       "      <td>162</td>\n",
       "      <td>2.395062</td>\n",
       "      <td>1</td>\n",
       "      <td>2.0</td>\n",
       "      <td>5</td>\n",
       "      <td>24.000000</td>\n",
       "      <td>24</td>\n",
       "      <td>24.0</td>\n",
       "      <td>24</td>\n",
       "    </tr>\n",
       "    <tr>\n",
       "      <th>Cluster 125</th>\n",
       "      <td>168</td>\n",
       "      <td>2.541667</td>\n",
       "      <td>1</td>\n",
       "      <td>2.0</td>\n",
       "      <td>5</td>\n",
       "      <td>30.000000</td>\n",
       "      <td>30</td>\n",
       "      <td>30.0</td>\n",
       "      <td>30</td>\n",
       "    </tr>\n",
       "    <tr>\n",
       "      <th>Cluster 156</th>\n",
       "      <td>144</td>\n",
       "      <td>2.944444</td>\n",
       "      <td>1</td>\n",
       "      <td>2.0</td>\n",
       "      <td>7</td>\n",
       "      <td>60.000000</td>\n",
       "      <td>60</td>\n",
       "      <td>60.0</td>\n",
       "      <td>60</td>\n",
       "    </tr>\n",
       "    <tr>\n",
       "      <th>Cluster 151</th>\n",
       "      <td>123</td>\n",
       "      <td>2.536585</td>\n",
       "      <td>1</td>\n",
       "      <td>2.0</td>\n",
       "      <td>6</td>\n",
       "      <td>42.000000</td>\n",
       "      <td>42</td>\n",
       "      <td>42.0</td>\n",
       "      <td>42</td>\n",
       "    </tr>\n",
       "  </tbody>\n",
       "</table>\n",
       "</div>"
      ],
      "text/plain": [
       "            Cluster Prod_TotalSale                ExpiryPeriod               \n",
       "              count           mean min median max         mean min median max\n",
       "Cluster                                                                      \n",
       "Cluster 277     178       1.640449   1    1.0   3    36.000000  36   36.0  36\n",
       "Cluster 207     112       1.651786   1    1.0   3    48.000000  48   48.0  48\n",
       "Cluster 65       95       2.357895   1    2.0   6     2.663158   2    3.0   3\n",
       "Cluster 123     162       2.395062   1    2.0   5    24.000000  24   24.0  24\n",
       "Cluster 125     168       2.541667   1    2.0   5    30.000000  30   30.0  30\n",
       "Cluster 156     144       2.944444   1    2.0   7    60.000000  60   60.0  60\n",
       "Cluster 151     123       2.536585   1    2.0   6    42.000000  42   42.0  42"
      ]
     },
     "execution_count": 392,
     "metadata": {},
     "output_type": "execute_result"
    }
   ],
   "source": [
    "Kmean_cluster.groupby(['Cluster']).agg({'Cluster':['count'],'Prod_TotalSale':['mean', 'min','median','max'], 'ExpiryPeriod':['mean', 'min','median','max']}).sort_values(by=('Prod_TotalSale', 'median')).head(7)"
   ]
  },
  {
   "cell_type": "markdown",
   "id": "4c3af97e",
   "metadata": {},
   "source": [
    "### Finalize dataset for modelling"
   ]
  },
  {
   "cell_type": "code",
   "execution_count": 393,
   "id": "7346c059",
   "metadata": {},
   "outputs": [
    {
     "data": {
      "text/html": [
       "<div>\n",
       "<style scoped>\n",
       "    .dataframe tbody tr th:only-of-type {\n",
       "        vertical-align: middle;\n",
       "    }\n",
       "\n",
       "    .dataframe tbody tr th {\n",
       "        vertical-align: top;\n",
       "    }\n",
       "\n",
       "    .dataframe thead th {\n",
       "        text-align: right;\n",
       "    }\n",
       "</style>\n",
       "<table border=\"1\" class=\"dataframe\">\n",
       "  <thead>\n",
       "    <tr style=\"text-align: right;\">\n",
       "      <th></th>\n",
       "      <th>SupplyDate</th>\n",
       "      <th>ProductName</th>\n",
       "      <th>Units</th>\n",
       "      <th>Price</th>\n",
       "      <th>ExpiryPeriod</th>\n",
       "      <th>Cluster</th>\n",
       "      <th>MinSale</th>\n",
       "      <th>MaxSale</th>\n",
       "      <th>AvgSale</th>\n",
       "      <th>Prod_TotalSale</th>\n",
       "      <th>Sale</th>\n",
       "    </tr>\n",
       "  </thead>\n",
       "  <tbody>\n",
       "    <tr>\n",
       "      <th>0</th>\n",
       "      <td>2014-01-01</td>\n",
       "      <td>AACIFEMINE COMP  30 X 2 MG</td>\n",
       "      <td>30</td>\n",
       "      <td>9.30</td>\n",
       "      <td>30</td>\n",
       "      <td>Cluster 27</td>\n",
       "      <td>1</td>\n",
       "      <td>22</td>\n",
       "      <td>8.409639</td>\n",
       "      <td>698</td>\n",
       "      <td>20</td>\n",
       "    </tr>\n",
       "    <tr>\n",
       "      <th>1</th>\n",
       "      <td>2014-01-01</td>\n",
       "      <td>ABILIFY 10 MG COMP 28 X 10 MG</td>\n",
       "      <td>28</td>\n",
       "      <td>124.24</td>\n",
       "      <td>48</td>\n",
       "      <td>Cluster 192</td>\n",
       "      <td>1</td>\n",
       "      <td>15</td>\n",
       "      <td>4.614286</td>\n",
       "      <td>323</td>\n",
       "      <td>8</td>\n",
       "    </tr>\n",
       "    <tr>\n",
       "      <th>2</th>\n",
       "      <td>2014-01-01</td>\n",
       "      <td>ABILIFY 15 MG COMP 28 X 15 MG</td>\n",
       "      <td>28</td>\n",
       "      <td>124.24</td>\n",
       "      <td>48</td>\n",
       "      <td>Cluster 5</td>\n",
       "      <td>1</td>\n",
       "      <td>14</td>\n",
       "      <td>4.750000</td>\n",
       "      <td>209</td>\n",
       "      <td>8</td>\n",
       "    </tr>\n",
       "    <tr>\n",
       "      <th>3</th>\n",
       "      <td>2014-01-01</td>\n",
       "      <td>ABILIFY 30 MG COMP 28 X 30 MG</td>\n",
       "      <td>28</td>\n",
       "      <td>143.79</td>\n",
       "      <td>48</td>\n",
       "      <td>Cluster 126</td>\n",
       "      <td>1</td>\n",
       "      <td>8</td>\n",
       "      <td>2.380952</td>\n",
       "      <td>150</td>\n",
       "      <td>2</td>\n",
       "    </tr>\n",
       "    <tr>\n",
       "      <th>4</th>\n",
       "      <td>2014-01-01</td>\n",
       "      <td>ACCOLATE COMP 56X20MG</td>\n",
       "      <td>56</td>\n",
       "      <td>26.64</td>\n",
       "      <td>24</td>\n",
       "      <td>Cluster 123</td>\n",
       "      <td>1</td>\n",
       "      <td>1</td>\n",
       "      <td>1.000000</td>\n",
       "      <td>4</td>\n",
       "      <td>1</td>\n",
       "    </tr>\n",
       "    <tr>\n",
       "      <th>...</th>\n",
       "      <td>...</td>\n",
       "      <td>...</td>\n",
       "      <td>...</td>\n",
       "      <td>...</td>\n",
       "      <td>...</td>\n",
       "      <td>...</td>\n",
       "      <td>...</td>\n",
       "      <td>...</td>\n",
       "      <td>...</td>\n",
       "      <td>...</td>\n",
       "      <td>...</td>\n",
       "    </tr>\n",
       "    <tr>\n",
       "      <th>140806</th>\n",
       "      <td>2020-12-01</td>\n",
       "      <td>ZYPREXA  5MG OMHULDE TABL 98 X  5 MG</td>\n",
       "      <td>98</td>\n",
       "      <td>181.79</td>\n",
       "      <td>36</td>\n",
       "      <td>Cluster 91</td>\n",
       "      <td>1</td>\n",
       "      <td>10</td>\n",
       "      <td>3.279412</td>\n",
       "      <td>223</td>\n",
       "      <td>6</td>\n",
       "    </tr>\n",
       "    <tr>\n",
       "      <th>140807</th>\n",
       "      <td>2020-12-01</td>\n",
       "      <td>ZYPREXA 10MG OMHULDE TABL 98 X 10 MG</td>\n",
       "      <td>98</td>\n",
       "      <td>354.04</td>\n",
       "      <td>36</td>\n",
       "      <td>Cluster 171</td>\n",
       "      <td>1</td>\n",
       "      <td>10</td>\n",
       "      <td>3.945946</td>\n",
       "      <td>292</td>\n",
       "      <td>5</td>\n",
       "    </tr>\n",
       "    <tr>\n",
       "      <th>140808</th>\n",
       "      <td>2020-12-01</td>\n",
       "      <td>ZYPREXA VELOTAB  5MG COMP ORODISP 98 X  5 MG</td>\n",
       "      <td>98</td>\n",
       "      <td>181.79</td>\n",
       "      <td>36</td>\n",
       "      <td>Cluster 149</td>\n",
       "      <td>1</td>\n",
       "      <td>13</td>\n",
       "      <td>5.808219</td>\n",
       "      <td>424</td>\n",
       "      <td>7</td>\n",
       "    </tr>\n",
       "    <tr>\n",
       "      <th>140809</th>\n",
       "      <td>2020-12-01</td>\n",
       "      <td>ZYPREXA VELOTAB 10MG COMP ORODISP 98 X 10 MG</td>\n",
       "      <td>98</td>\n",
       "      <td>354.04</td>\n",
       "      <td>36</td>\n",
       "      <td>Cluster 158</td>\n",
       "      <td>1</td>\n",
       "      <td>20</td>\n",
       "      <td>7.229730</td>\n",
       "      <td>535</td>\n",
       "      <td>10</td>\n",
       "    </tr>\n",
       "    <tr>\n",
       "      <th>140810</th>\n",
       "      <td>2020-12-01</td>\n",
       "      <td>ZYRTEC DRINKB OPL 200ML 1MG/ML</td>\n",
       "      <td>1</td>\n",
       "      <td>12.29</td>\n",
       "      <td>24</td>\n",
       "      <td>Cluster 241</td>\n",
       "      <td>1</td>\n",
       "      <td>5</td>\n",
       "      <td>2.301587</td>\n",
       "      <td>145</td>\n",
       "      <td>2</td>\n",
       "    </tr>\n",
       "  </tbody>\n",
       "</table>\n",
       "<p>140811 rows × 11 columns</p>\n",
       "</div>"
      ],
      "text/plain": [
       "       SupplyDate                                   ProductName  Units  \\\n",
       "0      2014-01-01                    AACIFEMINE COMP  30 X 2 MG     30   \n",
       "1      2014-01-01                 ABILIFY 10 MG COMP 28 X 10 MG     28   \n",
       "2      2014-01-01                 ABILIFY 15 MG COMP 28 X 15 MG     28   \n",
       "3      2014-01-01                 ABILIFY 30 MG COMP 28 X 30 MG     28   \n",
       "4      2014-01-01                         ACCOLATE COMP 56X20MG     56   \n",
       "...           ...                                           ...    ...   \n",
       "140806 2020-12-01          ZYPREXA  5MG OMHULDE TABL 98 X  5 MG     98   \n",
       "140807 2020-12-01          ZYPREXA 10MG OMHULDE TABL 98 X 10 MG     98   \n",
       "140808 2020-12-01  ZYPREXA VELOTAB  5MG COMP ORODISP 98 X  5 MG     98   \n",
       "140809 2020-12-01  ZYPREXA VELOTAB 10MG COMP ORODISP 98 X 10 MG     98   \n",
       "140810 2020-12-01                ZYRTEC DRINKB OPL 200ML 1MG/ML      1   \n",
       "\n",
       "         Price  ExpiryPeriod      Cluster  MinSale  MaxSale   AvgSale  \\\n",
       "0         9.30            30   Cluster 27        1       22  8.409639   \n",
       "1       124.24            48  Cluster 192        1       15  4.614286   \n",
       "2       124.24            48    Cluster 5        1       14  4.750000   \n",
       "3       143.79            48  Cluster 126        1        8  2.380952   \n",
       "4        26.64            24  Cluster 123        1        1  1.000000   \n",
       "...        ...           ...          ...      ...      ...       ...   \n",
       "140806  181.79            36   Cluster 91        1       10  3.279412   \n",
       "140807  354.04            36  Cluster 171        1       10  3.945946   \n",
       "140808  181.79            36  Cluster 149        1       13  5.808219   \n",
       "140809  354.04            36  Cluster 158        1       20  7.229730   \n",
       "140810   12.29            24  Cluster 241        1        5  2.301587   \n",
       "\n",
       "        Prod_TotalSale  Sale  \n",
       "0                  698    20  \n",
       "1                  323     8  \n",
       "2                  209     8  \n",
       "3                  150     2  \n",
       "4                    4     1  \n",
       "...                ...   ...  \n",
       "140806             223     6  \n",
       "140807             292     5  \n",
       "140808             424     7  \n",
       "140809             535    10  \n",
       "140810             145     2  \n",
       "\n",
       "[140811 rows x 11 columns]"
      ]
     },
     "execution_count": 393,
     "metadata": {},
     "output_type": "execute_result"
    }
   ],
   "source": [
    "def make_df_cluster(cluster_df):\n",
    "    Kmean_prod = pd.merge(cluster_df['Cluster'], prod_sale_df, left_index=True, right_index=True)\n",
    "    df = monthly_sale_df.merge(Kmean_prod, how='inner', on=(['ProductName','Units', 'Price', 'Prod_TotalSale', 'ExpiryPeriod', 'MinSale', 'MaxSale', 'AvgSale']), suffixes=('', '_prod'))\n",
    "    df = df.groupby(['SupplyDate','ProductName','Units', 'Price', 'ExpiryPeriod','Cluster', 'MinSale', 'MaxSale', 'AvgSale' ,'Prod_TotalSale'])['Sale'].sum().to_frame().reset_index()\n",
    "    return df\n",
    "df = make_df_cluster(Kmean_cluster_result)\n",
    "df"
   ]
  },
  {
   "cell_type": "markdown",
   "id": "62cecd87",
   "metadata": {},
   "source": [
    "# 10. Modelling: Prophet model"
   ]
  },
  {
   "cell_type": "markdown",
   "id": "c036e6e6",
   "metadata": {},
   "source": [
    "## 10.1 Modeling Prophet with cluster"
   ]
  },
  {
   "cell_type": "markdown",
   "id": "3021d9bd",
   "metadata": {},
   "source": [
    "### <p style=\"color:blue;\">  We will do the modelling using the prophet model based on the clusters we generated </p>"
   ]
  },
  {
   "cell_type": "code",
   "execution_count": 394,
   "id": "a2efa314",
   "metadata": {},
   "outputs": [
    {
     "data": {
      "text/html": [
       "<div>\n",
       "<style scoped>\n",
       "    .dataframe tbody tr th:only-of-type {\n",
       "        vertical-align: middle;\n",
       "    }\n",
       "\n",
       "    .dataframe tbody tr th {\n",
       "        vertical-align: top;\n",
       "    }\n",
       "\n",
       "    .dataframe thead th {\n",
       "        text-align: right;\n",
       "    }\n",
       "</style>\n",
       "<table border=\"1\" class=\"dataframe\">\n",
       "  <thead>\n",
       "    <tr style=\"text-align: right;\">\n",
       "      <th></th>\n",
       "      <th>ds</th>\n",
       "      <th>Cluster</th>\n",
       "      <th>y</th>\n",
       "    </tr>\n",
       "  </thead>\n",
       "  <tbody>\n",
       "    <tr>\n",
       "      <th>0</th>\n",
       "      <td>2014-01-01</td>\n",
       "      <td>Cluster 0</td>\n",
       "      <td>1.214286</td>\n",
       "    </tr>\n",
       "    <tr>\n",
       "      <th>1</th>\n",
       "      <td>2014-01-01</td>\n",
       "      <td>Cluster 1</td>\n",
       "      <td>41.000000</td>\n",
       "    </tr>\n",
       "    <tr>\n",
       "      <th>2</th>\n",
       "      <td>2014-01-01</td>\n",
       "      <td>Cluster 10</td>\n",
       "      <td>50.000000</td>\n",
       "    </tr>\n",
       "    <tr>\n",
       "      <th>3</th>\n",
       "      <td>2014-01-01</td>\n",
       "      <td>Cluster 100</td>\n",
       "      <td>9.000000</td>\n",
       "    </tr>\n",
       "    <tr>\n",
       "      <th>4</th>\n",
       "      <td>2014-01-01</td>\n",
       "      <td>Cluster 101</td>\n",
       "      <td>3.750000</td>\n",
       "    </tr>\n",
       "    <tr>\n",
       "      <th>...</th>\n",
       "      <td>...</td>\n",
       "      <td>...</td>\n",
       "      <td>...</td>\n",
       "    </tr>\n",
       "    <tr>\n",
       "      <th>24800</th>\n",
       "      <td>2020-12-01</td>\n",
       "      <td>Cluster 95</td>\n",
       "      <td>1.400000</td>\n",
       "    </tr>\n",
       "    <tr>\n",
       "      <th>24801</th>\n",
       "      <td>2020-12-01</td>\n",
       "      <td>Cluster 96</td>\n",
       "      <td>1.750000</td>\n",
       "    </tr>\n",
       "    <tr>\n",
       "      <th>24802</th>\n",
       "      <td>2020-12-01</td>\n",
       "      <td>Cluster 97</td>\n",
       "      <td>1.000000</td>\n",
       "    </tr>\n",
       "    <tr>\n",
       "      <th>24803</th>\n",
       "      <td>2020-12-01</td>\n",
       "      <td>Cluster 98</td>\n",
       "      <td>1.000000</td>\n",
       "    </tr>\n",
       "    <tr>\n",
       "      <th>24804</th>\n",
       "      <td>2020-12-01</td>\n",
       "      <td>Cluster 99</td>\n",
       "      <td>13.000000</td>\n",
       "    </tr>\n",
       "  </tbody>\n",
       "</table>\n",
       "<p>24805 rows × 3 columns</p>\n",
       "</div>"
      ],
      "text/plain": [
       "              ds      Cluster          y\n",
       "0     2014-01-01    Cluster 0   1.214286\n",
       "1     2014-01-01    Cluster 1  41.000000\n",
       "2     2014-01-01   Cluster 10  50.000000\n",
       "3     2014-01-01  Cluster 100   9.000000\n",
       "4     2014-01-01  Cluster 101   3.750000\n",
       "...          ...          ...        ...\n",
       "24800 2020-12-01   Cluster 95   1.400000\n",
       "24801 2020-12-01   Cluster 96   1.750000\n",
       "24802 2020-12-01   Cluster 97   1.000000\n",
       "24803 2020-12-01   Cluster 98   1.000000\n",
       "24804 2020-12-01   Cluster 99  13.000000\n",
       "\n",
       "[24805 rows x 3 columns]"
      ]
     },
     "execution_count": 394,
     "metadata": {},
     "output_type": "execute_result"
    }
   ],
   "source": [
    "def make_prophet_ds(input_df):\n",
    "    prophet_df = input_df.groupby(['SupplyDate', 'Cluster'])['Sale'].mean().to_frame().reset_index()\n",
    "#I filter first Clusters with less than 3 records to avoid errors as prophet only works for 2+ records by group\n",
    "    prophet_df = prophet_df.rename(columns={'SupplyDate': 'ds', 'Sale': 'y', 'Cluster': 'Cluster'}).groupby('Cluster').filter(lambda x: len(x) > 2)\n",
    "    return prophet_df\n",
    "\n",
    "prophet_df = make_prophet_ds(df)\n",
    "prophet_df"
   ]
  },
  {
   "cell_type": "code",
   "execution_count": 395,
   "id": "70b52cf3",
   "metadata": {},
   "outputs": [
    {
     "name": "stderr",
     "output_type": "stream",
     "text": [
      "INFO:prophet:Disabling yearly seasonality. Run prophet with yearly_seasonality=True to override this.\n",
      "INFO:prophet:n_changepoints greater than number of observations. Using 12.\n"
     ]
    }
   ],
   "source": [
    "def get_prediction(df):\n",
    "    #prediction = {}\n",
    "    list_cluster = df.Cluster.unique()\n",
    "    final = pd.DataFrame()\n",
    "    for cluster in list_cluster:\n",
    "        cluster_df = df.loc[df['Cluster'] == cluster]\n",
    "        # set the uncertainty interval to 95% (the Prophet default is 80%)\n",
    "        my_model = Prophet(weekly_seasonality= True, daily_seasonality=True,seasonality_prior_scale=1.0)\n",
    "        my_model.fit(cluster_df)\n",
    "        #future_dates = my_model.make_future_dataframe(periods=2, freq='MS', include_history = True)\n",
    "        # define the period for which we want a prediction\n",
    "        future = list()\n",
    "        for i in range(1, 13):\n",
    "            date = '2020-%02d' % i\n",
    "            future.append([date])\n",
    "        future = pd.DataFrame(future)\n",
    "        future.columns = ['ds']\n",
    "        future['ds']= pd.to_datetime(future['ds'])\n",
    "        forecast = my_model.predict(future)\n",
    "        forecast['Cluster'] = cluster\n",
    "        final = pd.concat([final, forecast], ignore_index=True)\n",
    "    return final\n",
    "#my_model.plot(forecast)\n",
    "\n",
    "result = get_prediction(prophet_df)"
   ]
  },
  {
   "cell_type": "markdown",
   "id": "48d948ea",
   "metadata": {},
   "source": [
    "## 10.2 Validation\n",
    "\n",
    "### Manual validation\n",
    "\n",
    "### <p style=\"color:blue;\">  We now valid our results </p>"
   ]
  },
  {
   "cell_type": "code",
   "execution_count": 396,
   "id": "99dbdb9f",
   "metadata": {},
   "outputs": [
    {
     "data": {
      "image/png": "[encoded data removed]",
      "text/plain": [
       "<Figure size 1080x216 with 1 Axes>"
      ]
     },
     "metadata": {
      "needs_background": "light"
     },
     "output_type": "display_data"
    },
    {
     "data": {
      "image/png": "[encoded data removed]",
      "text/plain": [
       "<Figure size 1080x216 with 1 Axes>"
      ]
     },
     "metadata": {
      "needs_background": "light"
     },
     "output_type": "display_data"
    },
    {
     "data": {
      "image/png": "[encoded data removed]",
      "text/plain": [
       "<Figure size 1080x216 with 1 Axes>"
      ]
     },
     "metadata": {
      "needs_background": "light"
     },
     "output_type": "display_data"
    },
    {
     "data": {
      "image/png": "[encoded data removed]",
      "text/plain": [
       "<Figure size 1080x216 with 1 Axes>"
      ]
     },
     "metadata": {
      "needs_background": "light"
     },
     "output_type": "display_data"
    },
    {
     "data": {
      "image/png": "[encoded data removed]",
      "text/plain": [
       "<Figure size 1080x216 with 1 Axes>"
      ]
     },
     "metadata": {
      "needs_background": "light"
     },
     "output_type": "display_data"
    }
   ],
   "source": [
    "def valid_graph(df, result_df, amt_cluster_to_visualize):\n",
    "    list_cluster = df.Cluster.unique()\n",
    "    list_cluster = list_cluster[:amt_cluster_to_visualize]\n",
    "    for cluster in list_cluster:\n",
    "        cluster_sale = df[df['Cluster'] == cluster ]\n",
    "        cluster_pred = result[result['Cluster'] == cluster ]\n",
    "        fig, ax = plt.subplots(figsize=(15, 3))\n",
    "        ax.plot(cluster_pred['ds'], cluster_pred['yhat'],'-',label = 'Prediction')\n",
    "        ax.plot(cluster_sale['ds'], cluster_sale['y'],'o', label = 'Observe')\n",
    "        ax.fill_between(cluster_pred['ds'], cluster_pred['yhat_lower'], cluster_pred['yhat_upper'], alpha=0.2)\n",
    "        ax.legend()\n",
    "        ax.set_title(cluster)\n",
    "\n",
    "valid_graph(prophet_df,result,5)"
   ]
  },
  {
   "cell_type": "markdown",
   "id": "23a71aad",
   "metadata": {},
   "source": [
    "### <p style=\"color:blue;\"> RMSE </p>\n",
    "Root mean squared error (RMSE): RMSE is a quadratic scoring rule that also measures the average magnitude of the error. It is the square root of the average of squared differences between prediction and actual observation, where larger errors are weighted much more heavily than smaller errors."
   ]
  },
  {
   "cell_type": "markdown",
   "id": "302cf240",
   "metadata": {},
   "source": [
    "#### <p style=\"color:green;\"> This is saying that the forecasted values different on average compared to what the real values tend to be. In this case, the RMSE score is saying that in average the predicted sale is on average 42 units higher or lower than actual sale. "
   ]
  },
  {
   "cell_type": "code",
   "execution_count": 397,
   "id": "225b91cd",
   "metadata": {},
   "outputs": [
    {
     "name": "stdout",
     "output_type": "stream",
     "text": [
      "The Root Mean Squared Error of our forecasts is 6.11\n"
     ]
    }
   ],
   "source": [
    "import math \n",
    "def get_rmse(df, result_df):\n",
    "    compare_result = result_df.merge(df, on=['ds','Cluster'], how='inner')\n",
    "    sale_predict = compare_result['yhat']\n",
    "    sale_observe = compare_result['y']\n",
    "    # Compute the mean square error\n",
    "    mse = math.sqrt(((sale_predict - sale_observe) ** 2).mean())\n",
    "    print('The Root Mean Squared Error of our forecasts is {}'.format(round(mse, 2)))\n",
    "\n",
    "rsme = get_rmse(prophet_df,result)"
   ]
  },
  {
   "cell_type": "markdown",
   "id": "decb1d6d",
   "metadata": {},
   "source": [
    "### <p style=\"color:blue;\"> Next, we check the RMSE for each cluster</p>"
   ]
  },
  {
   "cell_type": "code",
   "execution_count": 398,
   "id": "ed328b80",
   "metadata": {},
   "outputs": [
    {
     "data": {
      "text/html": [
       "<div>\n",
       "<style scoped>\n",
       "    .dataframe tbody tr th:only-of-type {\n",
       "        vertical-align: middle;\n",
       "    }\n",
       "\n",
       "    .dataframe tbody tr th {\n",
       "        vertical-align: top;\n",
       "    }\n",
       "\n",
       "    .dataframe thead th {\n",
       "        text-align: right;\n",
       "    }\n",
       "</style>\n",
       "<table border=\"1\" class=\"dataframe\">\n",
       "  <thead>\n",
       "    <tr style=\"text-align: right;\">\n",
       "      <th></th>\n",
       "      <th>Cluster</th>\n",
       "      <th>RMSE</th>\n",
       "    </tr>\n",
       "  </thead>\n",
       "  <tbody>\n",
       "    <tr>\n",
       "      <th>0</th>\n",
       "      <td>Cluster 0</td>\n",
       "      <td>0.187981</td>\n",
       "    </tr>\n",
       "    <tr>\n",
       "      <th>1</th>\n",
       "      <td>Cluster 1</td>\n",
       "      <td>3.017548</td>\n",
       "    </tr>\n",
       "    <tr>\n",
       "      <th>2</th>\n",
       "      <td>Cluster 10</td>\n",
       "      <td>10.945783</td>\n",
       "    </tr>\n",
       "    <tr>\n",
       "      <th>3</th>\n",
       "      <td>Cluster 100</td>\n",
       "      <td>4.256940</td>\n",
       "    </tr>\n",
       "    <tr>\n",
       "      <th>4</th>\n",
       "      <td>Cluster 101</td>\n",
       "      <td>2.278199</td>\n",
       "    </tr>\n",
       "    <tr>\n",
       "      <th>...</th>\n",
       "      <td>...</td>\n",
       "      <td>...</td>\n",
       "    </tr>\n",
       "    <tr>\n",
       "      <th>295</th>\n",
       "      <td>Cluster 36</td>\n",
       "      <td>6.769796</td>\n",
       "    </tr>\n",
       "    <tr>\n",
       "      <th>296</th>\n",
       "      <td>Cluster 6</td>\n",
       "      <td>2.741538</td>\n",
       "    </tr>\n",
       "    <tr>\n",
       "      <th>297</th>\n",
       "      <td>Cluster 94</td>\n",
       "      <td>9.453191</td>\n",
       "    </tr>\n",
       "    <tr>\n",
       "      <th>298</th>\n",
       "      <td>Cluster 42</td>\n",
       "      <td>22.565359</td>\n",
       "    </tr>\n",
       "    <tr>\n",
       "      <th>299</th>\n",
       "      <td>Cluster 187</td>\n",
       "      <td>70.073563</td>\n",
       "    </tr>\n",
       "  </tbody>\n",
       "</table>\n",
       "<p>300 rows × 2 columns</p>\n",
       "</div>"
      ],
      "text/plain": [
       "         Cluster       RMSE\n",
       "0      Cluster 0   0.187981\n",
       "1      Cluster 1   3.017548\n",
       "2     Cluster 10  10.945783\n",
       "3    Cluster 100   4.256940\n",
       "4    Cluster 101   2.278199\n",
       "..           ...        ...\n",
       "295   Cluster 36   6.769796\n",
       "296    Cluster 6   2.741538\n",
       "297   Cluster 94   9.453191\n",
       "298   Cluster 42  22.565359\n",
       "299  Cluster 187  70.073563\n",
       "\n",
       "[300 rows x 2 columns]"
      ]
     },
     "execution_count": 398,
     "metadata": {},
     "output_type": "execute_result"
    }
   ],
   "source": [
    "def get_rmse_df(df, result_df):\n",
    "    num=0\n",
    "    rmse = []\n",
    "    list_cluster = df.Cluster.unique()\n",
    "    for cluster in list_cluster:\n",
    "        num+=1\n",
    "        compare_result = result_df.merge(df, on=['ds','Cluster'], how='inner')\n",
    "        sale_predict =compare_result['yhat'][compare_result['Cluster']==cluster]\n",
    "        sale_observe =compare_result['y'][compare_result['Cluster']==cluster]\n",
    "        mse = math.sqrt(((sale_predict - sale_observe) ** 2).mean())\n",
    "    #print('The Root Mean Squared Error of our forecasts for',cluster, 'is {}'.format(round(mse, 2)))\n",
    "        rmse.append(\n",
    "            {\n",
    "                'Cluster': cluster,\n",
    "                'RMSE': mse\n",
    "            }\n",
    "        )\n",
    "    return pd.DataFrame(rmse)\n",
    "rmse_df = get_rmse_df(prophet_df,result)\n",
    "\n",
    "rmse_df"
   ]
  },
  {
   "cell_type": "markdown",
   "id": "d422695c",
   "metadata": {},
   "source": [
    "### <p style=\"color:blue;\"> MAE </p>\n",
    "Mean Absolute Error (MAE): MAE measures the average magnitude of the errors in a set of predictions, without considering their direction (it could be off in positive sense or negative sense). It is the average over the test sample of the absolute differences between prediction and actual observation where all individual differences have equal weight."
   ]
  },
  {
   "cell_type": "markdown",
   "id": "1b25b55a",
   "metadata": {},
   "source": [
    "#### <p style=\"color:green;\"> The calculation of RMSE involves squaring the difference numbers, this means that this metric can be signified by large differences compared to MAE.So when you are comparing two models (or three or more) and are interested in improving the larger differences, then RMSE would give  a more reliable insight. </p>"
   ]
  },
  {
   "cell_type": "code",
   "execution_count": 399,
   "id": "811bbfaf",
   "metadata": {},
   "outputs": [
    {
     "name": "stdout",
     "output_type": "stream",
     "text": [
      "The Mean Absolute Error of our forecasts is 0.66\n"
     ]
    }
   ],
   "source": [
    "compare_result = result.merge(prophet_df, on=['ds','Cluster'], how='inner')\n",
    "sale_predict = compare_result['yhat']\n",
    "sale_observe = compare_result['y']\n",
    "# Compute the mean square error\n",
    "mae_ab =abs((sale_predict - sale_observe).mean())\n",
    "print('The Mean Absolute Error of our forecasts is {}'.format(round(mae_ab, 2)))"
   ]
  },
  {
   "cell_type": "markdown",
   "id": "71aa317b",
   "metadata": {},
   "source": [
    "## 10.3 Optimization"
   ]
  },
  {
   "cell_type": "markdown",
   "id": "043d9bb6",
   "metadata": {},
   "source": [
    "### <p style=\"color:blue;\"> Optimize the model by increase amount of cluster and comparing RSME result </p>"
   ]
  },
  {
   "cell_type": "code",
   "execution_count": 400,
   "id": "552975d9",
   "metadata": {},
   "outputs": [],
   "source": [
    "\n",
    "#Kmean_prod = pd.merge(Kmean_cluster_opt['Cluster'], prod_sale_df, left_index=True, right_index=True)"
   ]
  },
  {
   "cell_type": "code",
   "execution_count": 401,
   "id": "5115b9ca",
   "metadata": {},
   "outputs": [],
   "source": [
    "Kmean_cluster_opt = prod_sale_df[['ExpiryPeriod','Prod_TotalSale']]\n",
    "\n",
    "def get_rsme_opt(n_clusters):\n",
    "    Kmean_cluster_opt = prod_sale_df[['ExpiryPeriod','Prod_TotalSale']]\n",
    "    Kmean_cluster_result_opt= get_cluster(Kmean_cluster_opt, n_clusters)\n",
    "    df_opt = make_df_cluster(Kmean_cluster_result_opt)\n",
    "    prophet_df_opt = make_prophet_ds(df_opt)\n",
    "    result_opt = get_prediction(prophet_df_opt)\n",
    "    rsme_opt = get_rmse(prophet_df_opt,result_opt)\n",
    "    #rsme_df_opt = get_rmse_df(prophet_df_opt,result_opt)\n",
    "    return rsme_opt"
   ]
  },
  {
   "cell_type": "markdown",
   "id": "98033974",
   "metadata": {},
   "source": [
    "RSME with 60 of clusters:"
   ]
  },
  {
   "cell_type": "markdown",
   "id": "f1a2c719",
   "metadata": {},
   "source": [
    "get_rsme_opt(60)"
   ]
  },
  {
   "cell_type": "markdown",
   "id": "aa6261ac",
   "metadata": {},
   "source": [
    "\n",
    "RSME with 100 of clusters:"
   ]
  },
  {
   "cell_type": "markdown",
   "id": "682a2591",
   "metadata": {},
   "source": [
    "get_rsme_opt(100)"
   ]
  },
  {
   "cell_type": "markdown",
   "id": "53e85d95",
   "metadata": {},
   "source": [
    "# 11. Modelling: LSTM model"
   ]
  },
  {
   "cell_type": "markdown",
   "id": "c5beccbc",
   "metadata": {},
   "source": [
    "## 11.1 Modeling LSTM with cluster"
   ]
  },
  {
   "cell_type": "markdown",
   "id": "5c92cf3d",
   "metadata": {},
   "source": [
    "### <p style=\"color:blue;\"> Make supervised learning dataframe that can be suitable for LSTM model: </p>"
   ]
  },
  {
   "cell_type": "code",
   "execution_count": 402,
   "id": "0314d613",
   "metadata": {},
   "outputs": [
    {
     "data": {
      "text/html": [
       "<div>\n",
       "<style scoped>\n",
       "    .dataframe tbody tr th:only-of-type {\n",
       "        vertical-align: middle;\n",
       "    }\n",
       "\n",
       "    .dataframe tbody tr th {\n",
       "        vertical-align: top;\n",
       "    }\n",
       "\n",
       "    .dataframe thead th {\n",
       "        text-align: right;\n",
       "    }\n",
       "</style>\n",
       "<table border=\"1\" class=\"dataframe\">\n",
       "  <thead>\n",
       "    <tr style=\"text-align: right;\">\n",
       "      <th>month_block</th>\n",
       "      <th>0</th>\n",
       "      <th>1</th>\n",
       "      <th>2</th>\n",
       "      <th>3</th>\n",
       "      <th>4</th>\n",
       "      <th>5</th>\n",
       "      <th>6</th>\n",
       "      <th>7</th>\n",
       "      <th>8</th>\n",
       "      <th>9</th>\n",
       "      <th>...</th>\n",
       "      <th>74</th>\n",
       "      <th>75</th>\n",
       "      <th>76</th>\n",
       "      <th>77</th>\n",
       "      <th>78</th>\n",
       "      <th>79</th>\n",
       "      <th>80</th>\n",
       "      <th>81</th>\n",
       "      <th>82</th>\n",
       "      <th>83</th>\n",
       "    </tr>\n",
       "    <tr>\n",
       "      <th>Cluster</th>\n",
       "      <th></th>\n",
       "      <th></th>\n",
       "      <th></th>\n",
       "      <th></th>\n",
       "      <th></th>\n",
       "      <th></th>\n",
       "      <th></th>\n",
       "      <th></th>\n",
       "      <th></th>\n",
       "      <th></th>\n",
       "      <th></th>\n",
       "      <th></th>\n",
       "      <th></th>\n",
       "      <th></th>\n",
       "      <th></th>\n",
       "      <th></th>\n",
       "      <th></th>\n",
       "      <th></th>\n",
       "      <th></th>\n",
       "      <th></th>\n",
       "      <th></th>\n",
       "    </tr>\n",
       "  </thead>\n",
       "  <tbody>\n",
       "    <tr>\n",
       "      <th>Cluster 90</th>\n",
       "      <td>45</td>\n",
       "      <td>36</td>\n",
       "      <td>41</td>\n",
       "      <td>34</td>\n",
       "      <td>37</td>\n",
       "      <td>32</td>\n",
       "      <td>30</td>\n",
       "      <td>36</td>\n",
       "      <td>30</td>\n",
       "      <td>33</td>\n",
       "      <td>...</td>\n",
       "      <td>31</td>\n",
       "      <td>24</td>\n",
       "      <td>24</td>\n",
       "      <td>32</td>\n",
       "      <td>16</td>\n",
       "      <td>23</td>\n",
       "      <td>23</td>\n",
       "      <td>33</td>\n",
       "      <td>22</td>\n",
       "      <td>29</td>\n",
       "    </tr>\n",
       "    <tr>\n",
       "      <th>Cluster 91</th>\n",
       "      <td>8</td>\n",
       "      <td>10</td>\n",
       "      <td>11</td>\n",
       "      <td>9</td>\n",
       "      <td>13</td>\n",
       "      <td>16</td>\n",
       "      <td>3</td>\n",
       "      <td>17</td>\n",
       "      <td>14</td>\n",
       "      <td>12</td>\n",
       "      <td>...</td>\n",
       "      <td>21</td>\n",
       "      <td>11</td>\n",
       "      <td>32</td>\n",
       "      <td>16</td>\n",
       "      <td>43</td>\n",
       "      <td>14</td>\n",
       "      <td>27</td>\n",
       "      <td>32</td>\n",
       "      <td>15</td>\n",
       "      <td>17</td>\n",
       "    </tr>\n",
       "    <tr>\n",
       "      <th>Cluster 92</th>\n",
       "      <td>21</td>\n",
       "      <td>17</td>\n",
       "      <td>27</td>\n",
       "      <td>14</td>\n",
       "      <td>26</td>\n",
       "      <td>20</td>\n",
       "      <td>16</td>\n",
       "      <td>13</td>\n",
       "      <td>19</td>\n",
       "      <td>29</td>\n",
       "      <td>...</td>\n",
       "      <td>56</td>\n",
       "      <td>52</td>\n",
       "      <td>34</td>\n",
       "      <td>51</td>\n",
       "      <td>39</td>\n",
       "      <td>33</td>\n",
       "      <td>58</td>\n",
       "      <td>54</td>\n",
       "      <td>53</td>\n",
       "      <td>43</td>\n",
       "    </tr>\n",
       "    <tr>\n",
       "      <th>Cluster 93</th>\n",
       "      <td>51</td>\n",
       "      <td>35</td>\n",
       "      <td>42</td>\n",
       "      <td>40</td>\n",
       "      <td>48</td>\n",
       "      <td>49</td>\n",
       "      <td>24</td>\n",
       "      <td>54</td>\n",
       "      <td>27</td>\n",
       "      <td>48</td>\n",
       "      <td>...</td>\n",
       "      <td>38</td>\n",
       "      <td>21</td>\n",
       "      <td>32</td>\n",
       "      <td>36</td>\n",
       "      <td>25</td>\n",
       "      <td>32</td>\n",
       "      <td>36</td>\n",
       "      <td>30</td>\n",
       "      <td>29</td>\n",
       "      <td>36</td>\n",
       "    </tr>\n",
       "    <tr>\n",
       "      <th>Cluster 94</th>\n",
       "      <td>0</td>\n",
       "      <td>0</td>\n",
       "      <td>0</td>\n",
       "      <td>0</td>\n",
       "      <td>0</td>\n",
       "      <td>0</td>\n",
       "      <td>0</td>\n",
       "      <td>0</td>\n",
       "      <td>0</td>\n",
       "      <td>0</td>\n",
       "      <td>...</td>\n",
       "      <td>19</td>\n",
       "      <td>11</td>\n",
       "      <td>11</td>\n",
       "      <td>12</td>\n",
       "      <td>12</td>\n",
       "      <td>11</td>\n",
       "      <td>15</td>\n",
       "      <td>16</td>\n",
       "      <td>4</td>\n",
       "      <td>15</td>\n",
       "    </tr>\n",
       "    <tr>\n",
       "      <th>Cluster 95</th>\n",
       "      <td>18</td>\n",
       "      <td>11</td>\n",
       "      <td>17</td>\n",
       "      <td>8</td>\n",
       "      <td>11</td>\n",
       "      <td>11</td>\n",
       "      <td>8</td>\n",
       "      <td>10</td>\n",
       "      <td>15</td>\n",
       "      <td>9</td>\n",
       "      <td>...</td>\n",
       "      <td>13</td>\n",
       "      <td>16</td>\n",
       "      <td>10</td>\n",
       "      <td>11</td>\n",
       "      <td>11</td>\n",
       "      <td>6</td>\n",
       "      <td>19</td>\n",
       "      <td>15</td>\n",
       "      <td>13</td>\n",
       "      <td>7</td>\n",
       "    </tr>\n",
       "    <tr>\n",
       "      <th>Cluster 96</th>\n",
       "      <td>23</td>\n",
       "      <td>21</td>\n",
       "      <td>35</td>\n",
       "      <td>48</td>\n",
       "      <td>45</td>\n",
       "      <td>30</td>\n",
       "      <td>22</td>\n",
       "      <td>35</td>\n",
       "      <td>35</td>\n",
       "      <td>33</td>\n",
       "      <td>...</td>\n",
       "      <td>12</td>\n",
       "      <td>12</td>\n",
       "      <td>17</td>\n",
       "      <td>13</td>\n",
       "      <td>8</td>\n",
       "      <td>12</td>\n",
       "      <td>9</td>\n",
       "      <td>11</td>\n",
       "      <td>27</td>\n",
       "      <td>14</td>\n",
       "    </tr>\n",
       "    <tr>\n",
       "      <th>Cluster 97</th>\n",
       "      <td>26</td>\n",
       "      <td>16</td>\n",
       "      <td>28</td>\n",
       "      <td>17</td>\n",
       "      <td>29</td>\n",
       "      <td>16</td>\n",
       "      <td>20</td>\n",
       "      <td>11</td>\n",
       "      <td>20</td>\n",
       "      <td>22</td>\n",
       "      <td>...</td>\n",
       "      <td>8</td>\n",
       "      <td>8</td>\n",
       "      <td>16</td>\n",
       "      <td>15</td>\n",
       "      <td>17</td>\n",
       "      <td>12</td>\n",
       "      <td>15</td>\n",
       "      <td>21</td>\n",
       "      <td>12</td>\n",
       "      <td>5</td>\n",
       "    </tr>\n",
       "    <tr>\n",
       "      <th>Cluster 98</th>\n",
       "      <td>15</td>\n",
       "      <td>8</td>\n",
       "      <td>21</td>\n",
       "      <td>18</td>\n",
       "      <td>18</td>\n",
       "      <td>16</td>\n",
       "      <td>10</td>\n",
       "      <td>17</td>\n",
       "      <td>15</td>\n",
       "      <td>14</td>\n",
       "      <td>...</td>\n",
       "      <td>7</td>\n",
       "      <td>10</td>\n",
       "      <td>7</td>\n",
       "      <td>6</td>\n",
       "      <td>10</td>\n",
       "      <td>9</td>\n",
       "      <td>14</td>\n",
       "      <td>12</td>\n",
       "      <td>8</td>\n",
       "      <td>8</td>\n",
       "    </tr>\n",
       "    <tr>\n",
       "      <th>Cluster 99</th>\n",
       "      <td>53</td>\n",
       "      <td>43</td>\n",
       "      <td>36</td>\n",
       "      <td>48</td>\n",
       "      <td>59</td>\n",
       "      <td>48</td>\n",
       "      <td>50</td>\n",
       "      <td>39</td>\n",
       "      <td>43</td>\n",
       "      <td>42</td>\n",
       "      <td>...</td>\n",
       "      <td>59</td>\n",
       "      <td>38</td>\n",
       "      <td>39</td>\n",
       "      <td>42</td>\n",
       "      <td>60</td>\n",
       "      <td>54</td>\n",
       "      <td>64</td>\n",
       "      <td>66</td>\n",
       "      <td>43</td>\n",
       "      <td>26</td>\n",
       "    </tr>\n",
       "  </tbody>\n",
       "</table>\n",
       "<p>10 rows × 84 columns</p>\n",
       "</div>"
      ],
      "text/plain": [
       "month_block  0   1   2   3   4   5   6   7   8   9   ...  74  75  76  77  78  \\\n",
       "Cluster                                              ...                       \n",
       "Cluster 90   45  36  41  34  37  32  30  36  30  33  ...  31  24  24  32  16   \n",
       "Cluster 91    8  10  11   9  13  16   3  17  14  12  ...  21  11  32  16  43   \n",
       "Cluster 92   21  17  27  14  26  20  16  13  19  29  ...  56  52  34  51  39   \n",
       "Cluster 93   51  35  42  40  48  49  24  54  27  48  ...  38  21  32  36  25   \n",
       "Cluster 94    0   0   0   0   0   0   0   0   0   0  ...  19  11  11  12  12   \n",
       "Cluster 95   18  11  17   8  11  11   8  10  15   9  ...  13  16  10  11  11   \n",
       "Cluster 96   23  21  35  48  45  30  22  35  35  33  ...  12  12  17  13   8   \n",
       "Cluster 97   26  16  28  17  29  16  20  11  20  22  ...   8   8  16  15  17   \n",
       "Cluster 98   15   8  21  18  18  16  10  17  15  14  ...   7  10   7   6  10   \n",
       "Cluster 99   53  43  36  48  59  48  50  39  43  42  ...  59  38  39  42  60   \n",
       "\n",
       "month_block  79  80  81  82  83  \n",
       "Cluster                          \n",
       "Cluster 90   23  23  33  22  29  \n",
       "Cluster 91   14  27  32  15  17  \n",
       "Cluster 92   33  58  54  53  43  \n",
       "Cluster 93   32  36  30  29  36  \n",
       "Cluster 94   11  15  16   4  15  \n",
       "Cluster 95    6  19  15  13   7  \n",
       "Cluster 96   12   9  11  27  14  \n",
       "Cluster 97   12  15  21  12   5  \n",
       "Cluster 98    9  14  12   8   8  \n",
       "Cluster 99   54  64  66  43  26  \n",
       "\n",
       "[10 rows x 84 columns]"
      ]
     },
     "execution_count": 402,
     "metadata": {},
     "output_type": "execute_result"
    }
   ],
   "source": [
    "#Change date to month block numbera consecutive month number, used for convenience.\n",
    "#Ex:January 2013 is 0, February 2013 is 1,..., October 2015 is 33\n",
    "add_monthNr = df.groupby(['SupplyDate'])['Sale'].sum().to_frame()\n",
    "add_monthNr= add_monthNr.reset_index().reset_index()\n",
    "add_monthNr = add_monthNr.rename(columns={'index':'month_block'}).drop('Sale',axis =1)\n",
    "\n",
    "sale = df.groupby(['SupplyDate','Cluster'])['Sale'].sum().to_frame().reset_index()\n",
    "#sale['Cluster']= sale.Cluster.str.extract('(\\d+)')\n",
    "sale = sale.merge(add_monthNr, how='inner', on=('SupplyDate'), suffixes=('_y', '')).drop('SupplyDate',axis=1)\n",
    "sale= sale.pivot_table(index= 'Cluster', values = 'Sale',columns = 'month_block',fill_value = 0,aggfunc='sum')\n",
    "sale.tail(10)"
   ]
  },
  {
   "cell_type": "markdown",
   "id": "08ef41d8",
   "metadata": {},
   "source": [
    "### <p style=\"color:blue;\"> Now we will split train, test set and scale dataset </p>"
   ]
  },
  {
   "cell_type": "code",
   "execution_count": 403,
   "id": "a9eafe4a",
   "metadata": {},
   "outputs": [],
   "source": [
    "train_set, test_set = sale[:-20].values, sale[-20:].values"
   ]
  },
  {
   "cell_type": "markdown",
   "id": "06aefdff",
   "metadata": {},
   "source": [
    "### <p style=\"color:blue;\"> As the sale for clusters are highly ranging, some cluster have more than 600 sales and some only 20. So we need to scale it before modelling.</p>"
   ]
  },
  {
   "cell_type": "code",
   "execution_count": 404,
   "id": "952ce6b1",
   "metadata": {},
   "outputs": [],
   "source": [
    "scaler = MinMaxScaler(feature_range=(-1, 1))\n",
    "scaler = scaler.fit(train_set)\n",
    "\n",
    "train_set = scaler.transform(train_set)\n",
    "test_set = scaler.transform(test_set)"
   ]
  },
  {
   "cell_type": "code",
   "execution_count": 405,
   "id": "07b5aece",
   "metadata": {},
   "outputs": [],
   "source": [
    "X_train, y_train = train_set[:,:-1], train_set[:, -1:]\n",
    "X_test, y_test = test_set[:,:-1], test_set[:, -1:]"
   ]
  },
  {
   "cell_type": "markdown",
   "id": "81e78879",
   "metadata": {},
   "source": [
    "### <p style=\"color:blue;\">Reshape train, test data so it can be suitable for LSTM modelling </p>\n",
    "\n",
    "\n"
   ]
  },
  {
   "cell_type": "code",
   "execution_count": 406,
   "id": "36c7dbc9",
   "metadata": {},
   "outputs": [],
   "source": [
    "# reshape from [samples, timesteps] into [samples, timesteps, features]\n",
    "n_features = 1\n",
    "X_train= X_train.reshape((X_train.shape[0], X_train.shape[1], n_features))\n",
    "X_test= X_test.reshape((X_test.shape[0], X_test.shape[1], n_features))"
   ]
  },
  {
   "cell_type": "code",
   "execution_count": 407,
   "id": "a4af97d1",
   "metadata": {},
   "outputs": [],
   "source": [
    "y_train = y_train.reshape(len(y_train))"
   ]
  },
  {
   "cell_type": "code",
   "execution_count": 408,
   "id": "0d8939da",
   "metadata": {},
   "outputs": [
    {
     "data": {
      "text/plain": [
       "array([-0.80851064, -0.84042553, -0.10638298, -0.35106383, -0.5       ,\n",
       "       -0.55319149, -0.5212766 , -0.45744681, -0.70212766, -0.84042553,\n",
       "       -0.43617021, -0.57446809, -0.89361702, -0.68085106, -0.76595745,\n",
       "       -0.56382979, -0.84042553, -0.73404255, -0.91489362, -0.82978723,\n",
       "       -0.4893617 , -0.75531915, -0.80851064, -0.59574468, -0.38297872,\n",
       "       -0.38297872, -0.95744681, -0.04255319, -0.90425532, -0.89361702,\n",
       "       -0.94680851, -0.69148936, -0.95744681, -0.41489362, -0.58510638,\n",
       "       -0.60638298, -0.84042553, -0.77659574, -0.89361702, -0.72340426,\n",
       "       -0.35106383, -0.5212766 , -0.22340426, -0.89361702, -0.79787234,\n",
       "        1.        , -0.11702128, -0.82978723, -0.88297872, -0.84042553,\n",
       "       -0.06382979, -0.80851064, -0.24468085, -0.57446809, -0.74468085,\n",
       "       -0.65957447, -0.42553191, -0.0106383 , -0.59574468, -0.92553191,\n",
       "       -0.92553191, -0.06382979, -0.60638298, -0.96808511, -0.82978723,\n",
       "       -0.63829787, -0.18085106, -0.69148936, -0.93617021, -0.56382979,\n",
       "       -0.53191489, -0.4893617 , -0.90425532, -0.81914894, -0.55319149,\n",
       "       -0.85106383, -0.35106383, -0.89361702, -0.79787234,  0.25531915,\n",
       "       -0.84042553, -0.44680851, -0.07446809, -0.81914894, -0.91489362,\n",
       "       -0.63829787, -0.81914894, -0.93617021, -0.14893617, -0.64893617,\n",
       "       -0.46808511, -0.54255319, -0.90425532, -0.93617021, -0.74468085,\n",
       "       -0.94680851, -0.90425532, -0.55319149, -1.        , -0.72340426,\n",
       "       -0.5       , -0.92553191, -0.76595745, -0.69148936, -0.53191489,\n",
       "       -0.92553191, -0.31914894, -0.70212766, -0.80851064, -0.81914894,\n",
       "       -1.        , -0.53191489,  0.03191489, -0.80851064, -0.56382979,\n",
       "       -0.84042553, -0.95744681, -0.84042553, -0.86170213, -0.77659574,\n",
       "       -0.53191489, -0.91489362, -0.61702128, -0.71276596, -0.04255319,\n",
       "       -0.58510638, -0.93617021, -0.91489362, -0.55319149, -0.77659574,\n",
       "       -0.70212766, -0.61702128, -0.64893617, -0.72340426, -0.89361702,\n",
       "       -0.88297872, -0.93617021, -0.59574468, -0.84042553, -0.94680851,\n",
       "       -0.68085106, -0.73404255, -0.39361702, -1.        , -0.88297872,\n",
       "       -0.09574468, -0.24468085, -0.73404255, -0.80851064, -0.79787234,\n",
       "       -0.68085106, -0.5       , -0.56382979, -0.64893617, -0.92553191,\n",
       "       -0.81914894, -0.71276596, -0.5212766 , -0.63829787, -0.5106383 ,\n",
       "       -0.84042553, -0.75531915, -0.76595745, -0.42553191, -0.58510638,\n",
       "       -0.82978723, -0.64893617, -0.68085106, -0.57446809, -0.46808511,\n",
       "        0.07446809, -0.94680851, -0.81914894, -0.68085106, -0.89361702,\n",
       "       -0.86170213, -0.43617021, -0.78723404, -0.46808511, -0.63829787,\n",
       "        0.03191489, -0.81914894, -0.58510638, -0.93617021, -0.96808511,\n",
       "       -0.81914894, -0.93617021, -0.81914894, -0.93617021, -0.57446809,\n",
       "       -0.61702128, -0.55319149, -0.96808511, -0.70212766, -0.80851064,\n",
       "       -0.80851064, -0.58510638, -0.87234043, -0.87234043, -1.        ,\n",
       "       -0.91489362, -0.92553191, -0.78723404, -0.82978723, -0.4893617 ,\n",
       "       -0.93617021, -0.81914894, -0.71276596, -0.67021277, -0.38297872,\n",
       "       -0.72340426, -0.72340426, -0.40425532, -0.54255319, -0.78723404,\n",
       "       -0.4787234 , -0.61702128, -0.69148936, -0.71276596, -0.84042553,\n",
       "       -0.62765957, -0.71276596, -0.60638298, -0.31914894,  0.09574468,\n",
       "       -0.37234043, -0.62765957, -0.58510638, -0.43617021, -0.41489362,\n",
       "       -0.5212766 , -0.28723404, -0.91489362, -0.89361702,  0.53191489,\n",
       "       -0.54255319, -0.86170213, -0.04255319,  0.15957447, -0.04255319,\n",
       "       -0.27659574,  0.18085106, -0.57446809, -0.92553191, -0.24468085,\n",
       "       -0.34042553, -0.64893617,  0.44680851, -0.79787234, -0.69148936,\n",
       "       -0.70212766, -0.5       , -0.07446809, -0.61702128, -0.86170213,\n",
       "       -0.75531915, -0.4893617 , -0.42553191, -0.46808511, -0.76595745,\n",
       "       -0.89361702, -0.4893617 , -0.86170213, -0.96808511, -0.94680851,\n",
       "       -0.81914894, -0.67021277, -0.36170213, -0.77659574, -0.76595745,\n",
       "       -0.46808511, -0.62765957,  0.12765957, -0.56382979, -0.81914894,\n",
       "       -0.72340426, -0.32978723, -0.72340426,  0.13829787, -0.35106383])"
      ]
     },
     "execution_count": 408,
     "metadata": {},
     "output_type": "execute_result"
    }
   ],
   "source": [
    "y_train"
   ]
  },
  {
   "cell_type": "code",
   "execution_count": 409,
   "id": "a1b7f4d8",
   "metadata": {},
   "outputs": [
    {
     "data": {
      "text/plain": [
       "(280,)"
      ]
     },
     "execution_count": 409,
     "metadata": {},
     "output_type": "execute_result"
    }
   ],
   "source": [
    "y_train.shape"
   ]
  },
  {
   "cell_type": "code",
   "execution_count": 410,
   "id": "9f346f68",
   "metadata": {},
   "outputs": [
    {
     "data": {
      "text/plain": [
       "(20, 83, 1)"
      ]
     },
     "execution_count": 410,
     "metadata": {},
     "output_type": "execute_result"
    }
   ],
   "source": [
    "X_test.shape"
   ]
  },
  {
   "cell_type": "code",
   "execution_count": 411,
   "id": "4ed67986",
   "metadata": {},
   "outputs": [
    {
     "data": {
      "text/plain": [
       "(280, 83, 1)"
      ]
     },
     "execution_count": 411,
     "metadata": {},
     "output_type": "execute_result"
    }
   ],
   "source": [
    "X_train.shape"
   ]
  },
  {
   "cell_type": "markdown",
   "id": "0bc70ee5",
   "metadata": {},
   "source": [
    "#### Modelling\n",
    "### <p style=\"color:blue;\">Train model </p>"
   ]
  },
  {
   "cell_type": "code",
   "execution_count": 412,
   "id": "29d49226",
   "metadata": {},
   "outputs": [],
   "source": [
    "n_steps = 83\n",
    "model = Sequential()\n",
    "model.add(LSTM(50, activation='relu', input_shape=(n_steps, n_features)))\n",
    "model.add(Dense(1))\n",
    "model.compile(optimizer='adam', loss='mse')"
   ]
  },
  {
   "cell_type": "code",
   "execution_count": 413,
   "id": "7fc94283",
   "metadata": {},
   "outputs": [],
   "source": [
    "history = model.fit(X_train, y_train, epochs=200, verbose=0)"
   ]
  },
  {
   "cell_type": "markdown",
   "id": "715c0844",
   "metadata": {},
   "source": [
    "### <p style=\"color:blue;\"> Forecast test set </p>\n"
   ]
  },
  {
   "cell_type": "code",
   "execution_count": 414,
   "id": "4a80ab39",
   "metadata": {
    "scrolled": true
   },
   "outputs": [
    {
     "name": "stdout",
     "output_type": "stream",
     "text": [
      "WARNING:tensorflow:6 out of the last 6 calls to <function Model.make_predict_function.<locals>.predict_function at 0x000001BF913D1CA0> triggered tf.function retracing. Tracing is expensive and the excessive number of tracings could be due to (1) creating @tf.function repeatedly in a loop, (2) passing tensors with different shapes, (3) passing Python objects instead of tensors. For (1), please define your @tf.function outside of the loop. For (2), @tf.function has experimental_relax_shapes=True option that relaxes argument shapes that can avoid unnecessary retracing. For (3), please refer to https://www.tensorflow.org/guide/function#controlling_retracing and https://www.tensorflow.org/api_docs/python/tf/function for  more details.\n"
     ]
    },
    {
     "name": "stderr",
     "output_type": "stream",
     "text": [
      "WARNING:tensorflow:6 out of the last 6 calls to <function Model.make_predict_function.<locals>.predict_function at 0x000001BF913D1CA0> triggered tf.function retracing. Tracing is expensive and the excessive number of tracings could be due to (1) creating @tf.function repeatedly in a loop, (2) passing tensors with different shapes, (3) passing Python objects instead of tensors. For (1), please define your @tf.function outside of the loop. For (2), @tf.function has experimental_relax_shapes=True option that relaxes argument shapes that can avoid unnecessary retracing. For (3), please refer to https://www.tensorflow.org/guide/function#controlling_retracing and https://www.tensorflow.org/api_docs/python/tf/function for  more details.\n"
     ]
    },
    {
     "data": {
      "text/plain": [
       "array([[nan],\n",
       "       [nan],\n",
       "       [nan],\n",
       "       [nan],\n",
       "       [nan],\n",
       "       [nan],\n",
       "       [nan],\n",
       "       [nan],\n",
       "       [nan],\n",
       "       [nan],\n",
       "       [nan],\n",
       "       [nan],\n",
       "       [nan],\n",
       "       [nan],\n",
       "       [nan],\n",
       "       [nan],\n",
       "       [nan],\n",
       "       [nan],\n",
       "       [nan],\n",
       "       [nan]], dtype=float32)"
      ]
     },
     "execution_count": 414,
     "metadata": {},
     "output_type": "execute_result"
    }
   ],
   "source": [
    "yhat = model.predict(X_test, verbose=0)\n",
    "yhat"
   ]
  },
  {
   "cell_type": "markdown",
   "id": "861d81d9",
   "metadata": {},
   "source": [
    "### <p style=\"color:blue;\"> Reshape result </p>"
   ]
  },
  {
   "cell_type": "code",
   "execution_count": 415,
   "id": "34d9c398",
   "metadata": {
    "scrolled": true
   },
   "outputs": [
    {
     "data": {
      "text/plain": [
       "array([[[nan]],\n",
       "\n",
       "       [[nan]],\n",
       "\n",
       "       [[nan]],\n",
       "\n",
       "       [[nan]],\n",
       "\n",
       "       [[nan]],\n",
       "\n",
       "       [[nan]],\n",
       "\n",
       "       [[nan]],\n",
       "\n",
       "       [[nan]],\n",
       "\n",
       "       [[nan]],\n",
       "\n",
       "       [[nan]],\n",
       "\n",
       "       [[nan]],\n",
       "\n",
       "       [[nan]],\n",
       "\n",
       "       [[nan]],\n",
       "\n",
       "       [[nan]],\n",
       "\n",
       "       [[nan]],\n",
       "\n",
       "       [[nan]],\n",
       "\n",
       "       [[nan]],\n",
       "\n",
       "       [[nan]],\n",
       "\n",
       "       [[nan]],\n",
       "\n",
       "       [[nan]]], dtype=float32)"
      ]
     },
     "execution_count": 415,
     "metadata": {},
     "output_type": "execute_result"
    }
   ],
   "source": [
    "#reshape \n",
    "yhat = yhat.reshape(yhat.shape[0],1, yhat.shape[1])\n",
    "X_test = X_test.reshape(X_test.shape[0], 1,  X_test.shape[1])\n",
    "yhat"
   ]
  },
  {
   "cell_type": "code",
   "execution_count": 416,
   "id": "cc721903",
   "metadata": {},
   "outputs": [],
   "source": [
    "pred_test_set = []\n",
    "for index in range(0,len(yhat)):   \n",
    "    #print(np.concatenate([yhat[index],X_test[index]],axis=1))\n",
    "    pred_test_set.append(np.concatenate([X_test[index],yhat[index]],axis=1)) "
   ]
  },
  {
   "cell_type": "markdown",
   "id": "f6cb03ee",
   "metadata": {},
   "source": [
    "### <p style=\"color:blue;\"> we will now inverse from scaling </p>"
   ]
  },
  {
   "cell_type": "code",
   "execution_count": 417,
   "id": "0c4ca847",
   "metadata": {},
   "outputs": [],
   "source": [
    "#reshape pred_test_set to make the shape equal to test set\n",
    "pred_test_set = np.array(pred_test_set)\n",
    "pred_test_set = pred_test_set.reshape(pred_test_set.shape[0], pred_test_set.shape[2])"
   ]
  },
  {
   "cell_type": "code",
   "execution_count": 418,
   "id": "5af918b3",
   "metadata": {
    "scrolled": true
   },
   "outputs": [
    {
     "data": {
      "text/plain": [
       "array([[24., 18., 11., ..., 25., 23., nan],\n",
       "       [17., 24., 21., ..., 41., 29., nan],\n",
       "       [20., 18., 21., ..., 16., 11., nan],\n",
       "       ...,\n",
       "       [26., 16., 28., ..., 21., 12., nan],\n",
       "       [15.,  8., 21., ..., 12.,  8., nan],\n",
       "       [53., 43., 36., ..., 66., 43., nan]])"
      ]
     },
     "execution_count": 418,
     "metadata": {},
     "output_type": "execute_result"
    }
   ],
   "source": [
    "pred_test_set_inverted = scaler.inverse_transform(pred_test_set)\n",
    "pred_test_set_inverted"
   ]
  },
  {
   "cell_type": "markdown",
   "id": "d3cb4af3",
   "metadata": {},
   "source": [
    "## 11.2 Validation"
   ]
  },
  {
   "cell_type": "markdown",
   "id": "6cc33854",
   "metadata": {},
   "source": [
    "### Actual and predict result"
   ]
  },
  {
   "cell_type": "markdown",
   "id": "a60c97aa",
   "metadata": {},
   "source": [
    "### <p style=\"color:blue;\"> Below are the actual values compared to those that are being predicted </p>\n"
   ]
  },
  {
   "cell_type": "code",
   "execution_count": 419,
   "id": "dad9bcec",
   "metadata": {
    "scrolled": false
   },
   "outputs": [
    {
     "ename": "ValueError",
     "evalue": "cannot convert float NaN to integer",
     "output_type": "error",
     "traceback": [
      "\u001b[1;31m---------------------------------------------------------------------------\u001b[0m",
      "\u001b[1;31mValueError\u001b[0m                                Traceback (most recent call last)",
      "\u001b[1;32m<ipython-input-419-4a7dda836837>\u001b[0m in \u001b[0;36m<module>\u001b[1;34m\u001b[0m\n\u001b[0;32m      7\u001b[0m     \u001b[0mresult_dict\u001b[0m\u001b[1;33m[\u001b[0m\u001b[1;34m'Cluster'\u001b[0m\u001b[1;33m]\u001b[0m \u001b[1;33m=\u001b[0m \u001b[0msales_cluster\u001b[0m\u001b[1;33m[\u001b[0m\u001b[0mindex\u001b[0m\u001b[1;33m]\u001b[0m\u001b[1;33m\u001b[0m\u001b[1;33m\u001b[0m\u001b[0m\n\u001b[0;32m      8\u001b[0m     \u001b[0mresult_dict\u001b[0m\u001b[1;33m[\u001b[0m\u001b[1;34m'actual_value'\u001b[0m\u001b[1;33m]\u001b[0m \u001b[1;33m=\u001b[0m \u001b[0mact_sales\u001b[0m\u001b[1;33m[\u001b[0m\u001b[0mindex\u001b[0m\u001b[1;33m]\u001b[0m\u001b[1;33m\u001b[0m\u001b[1;33m\u001b[0m\u001b[0m\n\u001b[1;32m----> 9\u001b[1;33m     \u001b[0mresult_dict\u001b[0m\u001b[1;33m[\u001b[0m\u001b[1;34m'pred_value'\u001b[0m\u001b[1;33m]\u001b[0m \u001b[1;33m=\u001b[0m \u001b[0mint\u001b[0m\u001b[1;33m(\u001b[0m\u001b[0mpred_test_set_inverted\u001b[0m\u001b[1;33m[\u001b[0m\u001b[0mindex\u001b[0m\u001b[1;33m]\u001b[0m\u001b[1;33m[\u001b[0m\u001b[1;33m-\u001b[0m\u001b[1;36m1\u001b[0m\u001b[1;33m]\u001b[0m\u001b[1;33m)\u001b[0m\u001b[1;33m\u001b[0m\u001b[1;33m\u001b[0m\u001b[0m\n\u001b[0m\u001b[0;32m     10\u001b[0m     \u001b[0mresult_list\u001b[0m\u001b[1;33m.\u001b[0m\u001b[0mappend\u001b[0m\u001b[1;33m(\u001b[0m\u001b[0mresult_dict\u001b[0m\u001b[1;33m)\u001b[0m\u001b[1;33m\u001b[0m\u001b[1;33m\u001b[0m\u001b[0m\n\u001b[0;32m     11\u001b[0m \u001b[0mdf_result\u001b[0m \u001b[1;33m=\u001b[0m \u001b[0mpd\u001b[0m\u001b[1;33m.\u001b[0m\u001b[0mDataFrame\u001b[0m\u001b[1;33m(\u001b[0m\u001b[0mresult_list\u001b[0m\u001b[1;33m)\u001b[0m\u001b[1;33m\u001b[0m\u001b[1;33m\u001b[0m\u001b[0m\n",
      "\u001b[1;31mValueError\u001b[0m: cannot convert float NaN to integer"
     ]
    }
   ],
   "source": [
    "sale = sale.reset_index()\n",
    "result_list = []\n",
    "act_sales = list(sale[83][-20:])\n",
    "sales_cluster = list(sale[-20:].Cluster)\n",
    "for index in range(0,len(pred_test_set_inverted)):\n",
    "    result_dict = {}\n",
    "    result_dict['Cluster'] = sales_cluster[index]\n",
    "    result_dict['actual_value'] = act_sales[index]\n",
    "    result_dict['pred_value'] = int(pred_test_set_inverted[index][-1])\n",
    "    result_list.append(result_dict)\n",
    "df_result = pd.DataFrame(result_list)\n",
    "df_result = df_result[df_result['pred_value'] > 0]\n",
    "df_result"
   ]
  },
  {
   "cell_type": "code",
   "execution_count": null,
   "id": "2b83871c",
   "metadata": {},
   "outputs": [],
   "source": [
    "df_result.plot(kind='bar', x= 'Cluster' , title='LSTM', figsize=(10, 7))\n"
   ]
  },
  {
   "cell_type": "markdown",
   "id": "9d9b3829",
   "metadata": {},
   "source": [
    "### RSME"
   ]
  },
  {
   "cell_type": "code",
   "execution_count": null,
   "id": "7859a1d6",
   "metadata": {
    "scrolled": true
   },
   "outputs": [],
   "source": [
    "import math\n",
    "\n",
    "val_predict = df_result['pred_value']\n",
    "val_actual = df_result['actual_value']\n",
    "# Compute the mean square error\n",
    "lstm_rmse = math.sqrt(((val_predict - val_actual) ** 2).mean())\n",
    "print('The Root Mean Squared Error of our forecasts is {}'.format(round(lstm_rmse, 2)))"
   ]
  },
  {
   "cell_type": "markdown",
   "id": "a3ec6dad",
   "metadata": {},
   "source": [
    "The RSME is pretty good as compare to the amount of train set and test set. In this case, the RSME can improve by incresing the amount of cluster "
   ]
  },
  {
   "cell_type": "markdown",
   "id": "9ed7cb1c",
   "metadata": {},
   "source": [
    "## 11.3 Optimization"
   ]
  },
  {
   "cell_type": "code",
   "execution_count": null,
   "id": "1208525f",
   "metadata": {
    "scrolled": false
   },
   "outputs": [],
   "source": [
    "df_his1 = pd.DataFrame(history.history)\n",
    "plt.figure(figsize = (10 , 10))\n",
    "sns.lineplot(x= df_his1.index + 1, y = df_his1['loss'], color='r', label=\"LSTM loss\")"
   ]
  },
  {
   "cell_type": "markdown",
   "id": "1f2eaa9d",
   "metadata": {},
   "source": [
    "The loss is extremly high with epoch lower 25 but is acceptable with other value. So we can keep the epoch in 200 or lower it to the value ranging from 50 to 200."
   ]
  },
  {
   "cell_type": "markdown",
   "id": "0f0cc152",
   "metadata": {},
   "source": [
    "# 12. Model comparision"
   ]
  },
  {
   "cell_type": "markdown",
   "id": "fee6604c",
   "metadata": {},
   "source": [
    "In this notebook, we already applied Prophet model and LSTM model. Both model works well and can give good prediction. However, each of the model has its pros and cons.\n",
    "\n",
    "Prophet works great with time-series, it give good prediction and handle outliers pretty well, the RSME score is in acceptable range. The cons of Prophet is that it takes long time to run the model. The bigger the dataset, the longer times it takes to train and predict. Also, it require computer with strong performance to perform fast and without shutting down in the mean time.\n",
    "\n",
    "LTSM, in the other hand, works great with big dataset and also give good result and RSME score although it is the complicated model and it takes time to apply it properly and get correct result.\n",
    "\n",
    "When comparing two model using RSME metrics, Prophet seems to outperform LSTM as it give lower RSME score. Which means, the difference between predicted value and the actual value is not so high with Prophet model, as compared to LSTM."
   ]
  },
  {
   "cell_type": "markdown",
   "id": "ebff5643",
   "metadata": {},
   "source": [
    "# 13.Final Result Explanation\n",
    "\n",
    "### <p style=\"color:blue;\"> Handling products with short life period </p>\n",
    "\n",
    "\n",
    "We can decide on the stocking amount for next month sale by taking into acount expiry period, min/max/average month sale, RSME and predicted value. Lets take the result from Prophet model to calculate the stock, especially for products with short life circle date.\n",
    "\n",
    "### <p style=\"color:blue;\"> First, run the dataframe with date, product, predict value, actual value and other variables: </p>\n"
   ]
  },
  {
   "cell_type": "code",
   "execution_count": null,
   "id": "fa7b45fc",
   "metadata": {
    "scrolled": true
   },
   "outputs": [],
   "source": [
    "compare_result = result.merge(prophet_df, on=['ds','Cluster'], how='inner')\n",
    "compare = compare_result[['ds','Cluster','yhat','y']].rename(columns={'ds': 'SupplyDate'})\n",
    "compare = compare.merge(df, on=['SupplyDate','Cluster'], how='inner').rename(columns={'yhat': 'PredictedSale'}).drop('y',axis=1)\n",
    "compare['PredictedSale'] = compare['PredictedSale'].apply(np.ceil)\n",
    "compare['AvgSale'] = round(compare['AvgSale'],0)"
   ]
  },
  {
   "cell_type": "markdown",
   "id": "3d445f0d",
   "metadata": {},
   "source": [
    "For products that have expiry date from 2 to 3 months, we will reduce the possibility of overstocking (which can lead to money loss for the company) by only stock the amount that smaller than maximum sale record. We will also calculate possible loss :\n",
    "\n",
    "- for product with short life, possible loss calculate possible loss if the predicted sale higher than average sale record.\n",
    "- for product with average life period, possible loss calculate possible loss if the predicted sale higher than maximum sale record."
   ]
  },
  {
   "cell_type": "code",
   "execution_count": null,
   "id": "9cd8f2a6",
   "metadata": {
    "scrolled": true
   },
   "outputs": [],
   "source": [
    "conditions = [\n",
    "    (compare['ExpiryPeriod'] < 4) & (compare['PredictedSale'] > compare['AvgSale']),\n",
    "    (compare['ExpiryPeriod'] > 3) & (compare['PredictedSale'] > compare['MaxSale'])\n",
    "    ]\n",
    "\n",
    "# create a list of the values we want to assign for each condition\n",
    "values = [round((compare['PredictedSale']-compare['AvgSale'])*compare['Price'],2), round((compare['PredictedSale']-compare['MaxSale'])*compare['Price'],2)]\n",
    "\n",
    "# create a new column and use np.select to assign values to it using our lists as arguments\n",
    "compare['PossibleLoss-overstock'] = np.select(conditions, values)\n",
    "\n",
    "# display updated DataFrame\n",
    "#compare[compare['ExpiryPeriod'] < 3][compare['Prod_TotalSale'] > 30].head(30)\n"
   ]
  },
  {
   "cell_type": "code",
   "execution_count": null,
   "id": "578bc173",
   "metadata": {},
   "outputs": [],
   "source": [
    "fn_result = compare.merge(rmse_df, on = 'Cluster', how='left')\n",
    "fn_result = fn_result[['SupplyDate', 'Cluster', 'ProductName', 'Price', 'ExpiryPeriod','Prod_TotalSale',  'AvgSale', 'MinSale', 'MaxSale', 'PredictedSale', 'RMSE', 'PossibleLoss-overstock', 'Sale']]\n",
    "#result[result['Sale'] >10][result['PossibleLoss-overstock'] >0].sample(10)\n",
    "fn_result[fn_result['ExpiryPeriod'] < 4]"
   ]
  },
  {
   "cell_type": "markdown",
   "id": "a0cbf843",
   "metadata": {},
   "source": [
    "With the possible loss calculation, together with expiry period and the predicted sale, the company can decide on how many product to restock depends on the amount of possible loss that they can accept. For example, with the product above, the predicted sale is 3, the maximum amount that they ever sold is 2, so if they stock 3 as predicted, the possible loss if they cannot sell all of it within 2 months for this product is 13,28 euro."
   ]
  }
 ],
 "metadata": {
  "kernelspec": {
   "display_name": "Python 3",
   "language": "python",
   "name": "python3"
  },
  "language_info": {
   "codemirror_mode": {
    "name": "ipython",
    "version": 3
   },
   "file_extension": ".py",
   "mimetype": "text/x-python",
   "name": "python",
   "nbconvert_exporter": "python",
   "pygments_lexer": "ipython3",
   "version": "3.8.8"
  }
 },
 "nbformat": 4,
 "nbformat_minor": 5
}
